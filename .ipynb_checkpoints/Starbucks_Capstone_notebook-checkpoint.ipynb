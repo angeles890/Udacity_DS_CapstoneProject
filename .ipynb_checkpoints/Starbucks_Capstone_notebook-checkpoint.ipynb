{
 "cells": [
  {
   "cell_type": "markdown",
   "metadata": {},
   "source": [
    "# Starbucks Capstone Challenge\n",
    "\n",
    "### Introduction\n",
    "\n",
    "This data set contains simulated data that mimics customer behavior on the Starbucks rewards mobile app. Once every few days, Starbucks sends out an offer to users of the mobile app. An offer can be merely an advertisement for a drink or an actual offer such as a discount or BOGO (buy one get one free). Some users might not receive any offer during certain weeks. \n",
    "\n",
    "Not all users receive the same offer, and that is the challenge to solve with this data set.\n",
    "\n",
    "Your task is to combine transaction, demographic and offer data to determine which demographic groups respond best to which offer type. This data set is a simplified version of the real Starbucks app because the underlying simulator only has one product whereas Starbucks actually sells dozens of products.\n",
    "\n",
    "Every offer has a validity period before the offer expires. As an example, a BOGO offer might be valid for only 5 days. You'll see in the data set that informational offers have a validity period even though these ads are merely providing information about a product; for example, if an informational offer has 7 days of validity, you can assume the customer is feeling the influence of the offer for 7 days after receiving the advertisement.\n",
    "\n",
    "You'll be given transactional data showing user purchases made on the app including the timestamp of purchase and the amount of money spent on a purchase. This transactional data also has a record for each offer that a user receives as well as a record for when a user actually views the offer. There are also records for when a user completes an offer. \n",
    "\n",
    "Keep in mind as well that someone using the app might make a purchase through the app without having received an offer or seen an offer.\n",
    "\n",
    "### Example\n",
    "\n",
    "To give an example, a user could receive a discount offer buy 10 dollars get 2 off on Monday. The offer is valid for 10 days from receipt. If the customer accumulates at least 10 dollars in purchases during the validity period, the customer completes the offer.\n",
    "\n",
    "However, there are a few things to watch out for in this data set. Customers do not opt into the offers that they receive; in other words, a user can receive an offer, never actually view the offer, and still complete the offer. For example, a user might receive the \"buy 10 dollars get 2 dollars off offer\", but the user never opens the offer during the 10 day validity period. The customer spends 15 dollars during those ten days. There will be an offer completion record in the data set; however, the customer was not influenced by the offer because the customer never viewed the offer.\n",
    "\n",
    "### Cleaning\n",
    "\n",
    "This makes data cleaning especially important and tricky.\n",
    "\n",
    "You'll also want to take into account that some demographic groups will make purchases even if they don't receive an offer. From a business perspective, if a customer is going to make a 10 dollar purchase without an offer anyway, you wouldn't want to send a buy 10 dollars get 2 dollars off offer. You'll want to try to assess what a certain demographic group will buy when not receiving any offers.\n",
    "\n",
    "### Final Advice\n",
    "\n",
    "Because this is a capstone project, you are free to analyze the data any way you see fit. For example, you could build a machine learning model that predicts how much someone will spend based on demographics and offer type. Or you could build a model that predicts whether or not someone will respond to an offer. Or, you don't need to build a machine learning model at all. You could develop a set of heuristics that determine what offer you should send to each customer (i.e., 75 percent of women customers who were 35 years old responded to offer A vs 40 percent from the same demographic to offer B, so send offer A)."
   ]
  },
  {
   "cell_type": "markdown",
   "metadata": {},
   "source": [
    "# Data Sets\n",
    "\n",
    "The data is contained in three files:\n",
    "\n",
    "* portfolio.json - containing offer ids and meta data about each offer (duration, type, etc.)\n",
    "* profile.json - demographic data for each customer\n",
    "* transcript.json - records for transactions, offers received, offers viewed, and offers completed\n",
    "\n",
    "Here is the schema and explanation of each variable in the files:\n",
    "\n",
    "**portfolio.json**\n",
    "* id (string) - offer id\n",
    "* offer_type (string) - type of offer ie BOGO, discount, informational\n",
    "* difficulty (int) - minimum required spend to complete an offer\n",
    "* reward (int) - reward given for completing an offer\n",
    "* duration (int) - time for offer to be open, in days\n",
    "* channels (list of strings)\n",
    "\n",
    "**profile.json**\n",
    "* age (int) - age of the customer \n",
    "* became_member_on (int) - date when customer created an app account\n",
    "* gender (str) - gender of the customer (note some entries contain 'O' for other rather than M or F)\n",
    "* id (str) - customer id\n",
    "* income (float) - customer's income\n",
    "\n",
    "**transcript.json**\n",
    "* event (str) - record description (ie transaction, offer received, offer viewed, etc.)\n",
    "* person (str) - customer id\n",
    "* time (int) - time in hours since start of test. The data begins at time t=0\n",
    "* value - (dict of strings) - either an offer id or transaction amount depending on the record\n",
    "\n",
    "**Note:** If you are using the workspace, you will need to go to the terminal and run the command `conda update pandas` before reading in the files. This is because the version of pandas in the workspace cannot read in the transcript.json file correctly, but the newest version of pandas can. You can access the termnal from the orange icon in the top left of this notebook.  \n",
    "\n",
    "You can see how to access the terminal and how the install works using the two images below.  First you need to access the terminal:\n",
    "\n",
    "<img src=\"pic1.png\"/>\n",
    "\n",
    "Then you will want to run the above command:\n",
    "\n",
    "<img src=\"pic2.png\"/>\n",
    "\n",
    "Finally, when you enter back into the notebook (use the jupyter icon again), you should be able to run the below cell without any errors."
   ]
  },
  {
   "cell_type": "markdown",
   "metadata": {},
   "source": [
    "<label id=\"goal\"></label>\n",
    "<h2>Overview And Goal</h2>\n",
    "\n",
    "In this capstone project for the Udacity Data Scientist Nanodegree Program, we explore and review a variety of simulated datasets shared by Starbucks. The data simulates customber behavior on the Starbucks mobile app, and details the distribution of offers and the users behavior following exposure to an offer. The goal of the project is to create a data product that helps Starbucks optimize their use of offers to either increase user activity or reduce offer exposure to users who don't need them.\n",
    "<br/>\n",
    "\n",
    "The end goal is to develop a model that helps predict the probability of offer success for a given offer to a given individual. To assess the effectiveness of our model using commonly accepted measures of a model's performance, namely:\n",
    "<ul>\n",
    "    <li>Accuracy: An intuitive measure that provides the ratio of correclty predicted observations to the count of total observations</li>\n",
    "    <li>F1 Score: A weighted average of Precision (true positives divided by Sum(true positives, false positives)) and Recall (true positives divided by Sum(true positives, false negatives)) that takes into account the rate of false positives and false negatives.</li>\n",
    "    <li>Matthews Correlation Coefficient: A useful measure for binary classification problems </li>\n",
    "</ul>"
   ]
  },
  {
   "cell_type": "code",
   "execution_count": 1,
   "metadata": {},
   "outputs": [
    {
     "name": "stdout",
     "output_type": "stream",
     "text": [
      "Done loading\n"
     ]
    }
   ],
   "source": [
    "import pandas as pd\n",
    "import numpy as np\n",
    "from datetime import datetime\n",
    "import math\n",
    "import json\n",
    "import seaborn as sns\n",
    "from matplotlib import pyplot as plt\n",
    "% matplotlib inline\n",
    "\n",
    "from sklearn.metrics import confusion_matrix\n",
    "from sklearn.tree import DecisionTreeClassifier\n",
    "from sklearn.ensemble import RandomForestClassifier\n",
    "from sklearn.ensemble import VotingClassifier\n",
    "from sklearn.linear_model import LogisticRegression\n",
    "from sklearn.model_selection import train_test_split\n",
    "from sklearn.preprocessing import StandardScaler\n",
    "from sklearn.svm import SVC\n",
    "from sklearn.ensemble import StackingClassifier\n",
    "from sklearn.model_selection import GridSearchCV\n",
    "\n",
    "\n",
    "from sklearn.metrics import matthews_corrcoef\n",
    "from sklearn.metrics import f1_score\n",
    "\n",
    "\n",
    "# read in the json files\n",
    "portfolio = pd.read_json('data/portfolio.json', orient='records', lines=True)\n",
    "profile = pd.read_json('data/profile.json', orient='records', lines=True)\n",
    "transcript = pd.read_json('data/transcript.json', orient='records', lines=True)\n",
    "print('Done loading')"
   ]
  },
  {
   "cell_type": "markdown",
   "metadata": {},
   "source": [
    "<h2>Data Overview</h2>\n",
    "Prior to jumping into visuals and predictive modeling, we'll do an overview of the data to check for data quality issues, areas that need more investigation, and simply to get a feel for the data.\n",
    "\n",
    "<b>Portfolio</b>\n",
    "\n",
    "Data related to the universe of offers such as duration, type, and distribution channel. "
   ]
  },
  {
   "cell_type": "code",
   "execution_count": 2,
   "metadata": {},
   "outputs": [
    {
     "name": "stdout",
     "output_type": "stream",
     "text": [
      "Shape of Portfolio DF (10, 6)\n"
     ]
    },
    {
     "data": {
      "text/html": [
       "<div>\n",
       "<style scoped>\n",
       "    .dataframe tbody tr th:only-of-type {\n",
       "        vertical-align: middle;\n",
       "    }\n",
       "\n",
       "    .dataframe tbody tr th {\n",
       "        vertical-align: top;\n",
       "    }\n",
       "\n",
       "    .dataframe thead th {\n",
       "        text-align: right;\n",
       "    }\n",
       "</style>\n",
       "<table border=\"1\" class=\"dataframe\">\n",
       "  <thead>\n",
       "    <tr style=\"text-align: right;\">\n",
       "      <th></th>\n",
       "      <th>channels</th>\n",
       "      <th>difficulty</th>\n",
       "      <th>duration</th>\n",
       "      <th>id</th>\n",
       "      <th>offer_type</th>\n",
       "      <th>reward</th>\n",
       "    </tr>\n",
       "  </thead>\n",
       "  <tbody>\n",
       "    <tr>\n",
       "      <th>0</th>\n",
       "      <td>[email, mobile, social]</td>\n",
       "      <td>10</td>\n",
       "      <td>7</td>\n",
       "      <td>ae264e3637204a6fb9bb56bc8210ddfd</td>\n",
       "      <td>bogo</td>\n",
       "      <td>10</td>\n",
       "    </tr>\n",
       "    <tr>\n",
       "      <th>1</th>\n",
       "      <td>[web, email, mobile, social]</td>\n",
       "      <td>10</td>\n",
       "      <td>5</td>\n",
       "      <td>4d5c57ea9a6940dd891ad53e9dbe8da0</td>\n",
       "      <td>bogo</td>\n",
       "      <td>10</td>\n",
       "    </tr>\n",
       "    <tr>\n",
       "      <th>2</th>\n",
       "      <td>[web, email, mobile]</td>\n",
       "      <td>0</td>\n",
       "      <td>4</td>\n",
       "      <td>3f207df678b143eea3cee63160fa8bed</td>\n",
       "      <td>informational</td>\n",
       "      <td>0</td>\n",
       "    </tr>\n",
       "    <tr>\n",
       "      <th>3</th>\n",
       "      <td>[web, email, mobile]</td>\n",
       "      <td>5</td>\n",
       "      <td>7</td>\n",
       "      <td>9b98b8c7a33c4b65b9aebfe6a799e6d9</td>\n",
       "      <td>bogo</td>\n",
       "      <td>5</td>\n",
       "    </tr>\n",
       "    <tr>\n",
       "      <th>4</th>\n",
       "      <td>[web, email]</td>\n",
       "      <td>20</td>\n",
       "      <td>10</td>\n",
       "      <td>0b1e1539f2cc45b7b9fa7c272da2e1d7</td>\n",
       "      <td>discount</td>\n",
       "      <td>5</td>\n",
       "    </tr>\n",
       "    <tr>\n",
       "      <th>5</th>\n",
       "      <td>[web, email, mobile, social]</td>\n",
       "      <td>7</td>\n",
       "      <td>7</td>\n",
       "      <td>2298d6c36e964ae4a3e7e9706d1fb8c2</td>\n",
       "      <td>discount</td>\n",
       "      <td>3</td>\n",
       "    </tr>\n",
       "    <tr>\n",
       "      <th>6</th>\n",
       "      <td>[web, email, mobile, social]</td>\n",
       "      <td>10</td>\n",
       "      <td>10</td>\n",
       "      <td>fafdcd668e3743c1bb461111dcafc2a4</td>\n",
       "      <td>discount</td>\n",
       "      <td>2</td>\n",
       "    </tr>\n",
       "    <tr>\n",
       "      <th>7</th>\n",
       "      <td>[email, mobile, social]</td>\n",
       "      <td>0</td>\n",
       "      <td>3</td>\n",
       "      <td>5a8bc65990b245e5a138643cd4eb9837</td>\n",
       "      <td>informational</td>\n",
       "      <td>0</td>\n",
       "    </tr>\n",
       "    <tr>\n",
       "      <th>8</th>\n",
       "      <td>[web, email, mobile, social]</td>\n",
       "      <td>5</td>\n",
       "      <td>5</td>\n",
       "      <td>f19421c1d4aa40978ebb69ca19b0e20d</td>\n",
       "      <td>bogo</td>\n",
       "      <td>5</td>\n",
       "    </tr>\n",
       "    <tr>\n",
       "      <th>9</th>\n",
       "      <td>[web, email, mobile]</td>\n",
       "      <td>10</td>\n",
       "      <td>7</td>\n",
       "      <td>2906b810c7d4411798c6938adc9daaa5</td>\n",
       "      <td>discount</td>\n",
       "      <td>2</td>\n",
       "    </tr>\n",
       "  </tbody>\n",
       "</table>\n",
       "</div>"
      ],
      "text/plain": [
       "                       channels  difficulty  duration  \\\n",
       "0       [email, mobile, social]          10         7   \n",
       "1  [web, email, mobile, social]          10         5   \n",
       "2          [web, email, mobile]           0         4   \n",
       "3          [web, email, mobile]           5         7   \n",
       "4                  [web, email]          20        10   \n",
       "5  [web, email, mobile, social]           7         7   \n",
       "6  [web, email, mobile, social]          10        10   \n",
       "7       [email, mobile, social]           0         3   \n",
       "8  [web, email, mobile, social]           5         5   \n",
       "9          [web, email, mobile]          10         7   \n",
       "\n",
       "                                 id     offer_type  reward  \n",
       "0  ae264e3637204a6fb9bb56bc8210ddfd           bogo      10  \n",
       "1  4d5c57ea9a6940dd891ad53e9dbe8da0           bogo      10  \n",
       "2  3f207df678b143eea3cee63160fa8bed  informational       0  \n",
       "3  9b98b8c7a33c4b65b9aebfe6a799e6d9           bogo       5  \n",
       "4  0b1e1539f2cc45b7b9fa7c272da2e1d7       discount       5  \n",
       "5  2298d6c36e964ae4a3e7e9706d1fb8c2       discount       3  \n",
       "6  fafdcd668e3743c1bb461111dcafc2a4       discount       2  \n",
       "7  5a8bc65990b245e5a138643cd4eb9837  informational       0  \n",
       "8  f19421c1d4aa40978ebb69ca19b0e20d           bogo       5  \n",
       "9  2906b810c7d4411798c6938adc9daaa5       discount       2  "
      ]
     },
     "execution_count": 2,
     "metadata": {},
     "output_type": "execute_result"
    }
   ],
   "source": [
    "print(\"Shape of Portfolio DF {0}\".format(portfolio.shape))\n",
    "portfolio.head(10)"
   ]
  },
  {
   "cell_type": "code",
   "execution_count": 4,
   "metadata": {},
   "outputs": [
    {
     "data": {
      "text/html": [
       "<div>\n",
       "<style scoped>\n",
       "    .dataframe tbody tr th:only-of-type {\n",
       "        vertical-align: middle;\n",
       "    }\n",
       "\n",
       "    .dataframe tbody tr th {\n",
       "        vertical-align: top;\n",
       "    }\n",
       "\n",
       "    .dataframe thead th {\n",
       "        text-align: right;\n",
       "    }\n",
       "</style>\n",
       "<table border=\"1\" class=\"dataframe\">\n",
       "  <thead>\n",
       "    <tr style=\"text-align: right;\">\n",
       "      <th></th>\n",
       "      <th>difficulty</th>\n",
       "      <th>duration</th>\n",
       "      <th>reward</th>\n",
       "    </tr>\n",
       "  </thead>\n",
       "  <tbody>\n",
       "    <tr>\n",
       "      <th>count</th>\n",
       "      <td>10.000000</td>\n",
       "      <td>10.000000</td>\n",
       "      <td>10.000000</td>\n",
       "    </tr>\n",
       "    <tr>\n",
       "      <th>mean</th>\n",
       "      <td>7.700000</td>\n",
       "      <td>6.500000</td>\n",
       "      <td>4.200000</td>\n",
       "    </tr>\n",
       "    <tr>\n",
       "      <th>std</th>\n",
       "      <td>5.831905</td>\n",
       "      <td>2.321398</td>\n",
       "      <td>3.583915</td>\n",
       "    </tr>\n",
       "    <tr>\n",
       "      <th>min</th>\n",
       "      <td>0.000000</td>\n",
       "      <td>3.000000</td>\n",
       "      <td>0.000000</td>\n",
       "    </tr>\n",
       "    <tr>\n",
       "      <th>25%</th>\n",
       "      <td>5.000000</td>\n",
       "      <td>5.000000</td>\n",
       "      <td>2.000000</td>\n",
       "    </tr>\n",
       "    <tr>\n",
       "      <th>50%</th>\n",
       "      <td>8.500000</td>\n",
       "      <td>7.000000</td>\n",
       "      <td>4.000000</td>\n",
       "    </tr>\n",
       "    <tr>\n",
       "      <th>75%</th>\n",
       "      <td>10.000000</td>\n",
       "      <td>7.000000</td>\n",
       "      <td>5.000000</td>\n",
       "    </tr>\n",
       "    <tr>\n",
       "      <th>max</th>\n",
       "      <td>20.000000</td>\n",
       "      <td>10.000000</td>\n",
       "      <td>10.000000</td>\n",
       "    </tr>\n",
       "  </tbody>\n",
       "</table>\n",
       "</div>"
      ],
      "text/plain": [
       "       difficulty   duration     reward\n",
       "count   10.000000  10.000000  10.000000\n",
       "mean     7.700000   6.500000   4.200000\n",
       "std      5.831905   2.321398   3.583915\n",
       "min      0.000000   3.000000   0.000000\n",
       "25%      5.000000   5.000000   2.000000\n",
       "50%      8.500000   7.000000   4.000000\n",
       "75%     10.000000   7.000000   5.000000\n",
       "max     20.000000  10.000000  10.000000"
      ]
     },
     "execution_count": 4,
     "metadata": {},
     "output_type": "execute_result"
    }
   ],
   "source": [
    "# summary stats for quantitative items\n",
    "portfolio.describe()"
   ]
  },
  {
   "cell_type": "code",
   "execution_count": 59,
   "metadata": {},
   "outputs": [],
   "source": [
    "# check for null values\n",
    "portfolio.isna().sum()"
   ]
  },
  {
   "cell_type": "markdown",
   "metadata": {},
   "source": [
    "<b>Profile</b>\n",
    "\n",
    "User demographic data such as age, income, gender, etc."
   ]
  },
  {
   "cell_type": "code",
   "execution_count": 6,
   "metadata": {},
   "outputs": [
    {
     "name": "stdout",
     "output_type": "stream",
     "text": [
      "Shape of Profile DF (17000, 5)\n"
     ]
    },
    {
     "data": {
      "text/html": [
       "<div>\n",
       "<style scoped>\n",
       "    .dataframe tbody tr th:only-of-type {\n",
       "        vertical-align: middle;\n",
       "    }\n",
       "\n",
       "    .dataframe tbody tr th {\n",
       "        vertical-align: top;\n",
       "    }\n",
       "\n",
       "    .dataframe thead th {\n",
       "        text-align: right;\n",
       "    }\n",
       "</style>\n",
       "<table border=\"1\" class=\"dataframe\">\n",
       "  <thead>\n",
       "    <tr style=\"text-align: right;\">\n",
       "      <th></th>\n",
       "      <th>age</th>\n",
       "      <th>became_member_on</th>\n",
       "      <th>gender</th>\n",
       "      <th>id</th>\n",
       "      <th>income</th>\n",
       "    </tr>\n",
       "  </thead>\n",
       "  <tbody>\n",
       "    <tr>\n",
       "      <th>0</th>\n",
       "      <td>118</td>\n",
       "      <td>20170212</td>\n",
       "      <td>None</td>\n",
       "      <td>68be06ca386d4c31939f3a4f0e3dd783</td>\n",
       "      <td>NaN</td>\n",
       "    </tr>\n",
       "    <tr>\n",
       "      <th>1</th>\n",
       "      <td>55</td>\n",
       "      <td>20170715</td>\n",
       "      <td>F</td>\n",
       "      <td>0610b486422d4921ae7d2bf64640c50b</td>\n",
       "      <td>112000.0</td>\n",
       "    </tr>\n",
       "    <tr>\n",
       "      <th>2</th>\n",
       "      <td>118</td>\n",
       "      <td>20180712</td>\n",
       "      <td>None</td>\n",
       "      <td>38fe809add3b4fcf9315a9694bb96ff5</td>\n",
       "      <td>NaN</td>\n",
       "    </tr>\n",
       "    <tr>\n",
       "      <th>3</th>\n",
       "      <td>75</td>\n",
       "      <td>20170509</td>\n",
       "      <td>F</td>\n",
       "      <td>78afa995795e4d85b5d9ceeca43f5fef</td>\n",
       "      <td>100000.0</td>\n",
       "    </tr>\n",
       "    <tr>\n",
       "      <th>4</th>\n",
       "      <td>118</td>\n",
       "      <td>20170804</td>\n",
       "      <td>None</td>\n",
       "      <td>a03223e636434f42ac4c3df47e8bac43</td>\n",
       "      <td>NaN</td>\n",
       "    </tr>\n",
       "  </tbody>\n",
       "</table>\n",
       "</div>"
      ],
      "text/plain": [
       "   age  became_member_on gender                                id    income\n",
       "0  118          20170212   None  68be06ca386d4c31939f3a4f0e3dd783       NaN\n",
       "1   55          20170715      F  0610b486422d4921ae7d2bf64640c50b  112000.0\n",
       "2  118          20180712   None  38fe809add3b4fcf9315a9694bb96ff5       NaN\n",
       "3   75          20170509      F  78afa995795e4d85b5d9ceeca43f5fef  100000.0\n",
       "4  118          20170804   None  a03223e636434f42ac4c3df47e8bac43       NaN"
      ]
     },
     "execution_count": 6,
     "metadata": {},
     "output_type": "execute_result"
    }
   ],
   "source": [
    "print(\"Shape of Profile DF {0}\".format(profile.shape))\n",
    "profile.head()"
   ]
  },
  {
   "cell_type": "code",
   "execution_count": 7,
   "metadata": {},
   "outputs": [
    {
     "data": {
      "text/html": [
       "<div>\n",
       "<style scoped>\n",
       "    .dataframe tbody tr th:only-of-type {\n",
       "        vertical-align: middle;\n",
       "    }\n",
       "\n",
       "    .dataframe tbody tr th {\n",
       "        vertical-align: top;\n",
       "    }\n",
       "\n",
       "    .dataframe thead th {\n",
       "        text-align: right;\n",
       "    }\n",
       "</style>\n",
       "<table border=\"1\" class=\"dataframe\">\n",
       "  <thead>\n",
       "    <tr style=\"text-align: right;\">\n",
       "      <th></th>\n",
       "      <th>age</th>\n",
       "      <th>became_member_on</th>\n",
       "      <th>income</th>\n",
       "    </tr>\n",
       "  </thead>\n",
       "  <tbody>\n",
       "    <tr>\n",
       "      <th>count</th>\n",
       "      <td>17000.000000</td>\n",
       "      <td>1.700000e+04</td>\n",
       "      <td>14825.000000</td>\n",
       "    </tr>\n",
       "    <tr>\n",
       "      <th>mean</th>\n",
       "      <td>62.531412</td>\n",
       "      <td>2.016703e+07</td>\n",
       "      <td>65404.991568</td>\n",
       "    </tr>\n",
       "    <tr>\n",
       "      <th>std</th>\n",
       "      <td>26.738580</td>\n",
       "      <td>1.167750e+04</td>\n",
       "      <td>21598.299410</td>\n",
       "    </tr>\n",
       "    <tr>\n",
       "      <th>min</th>\n",
       "      <td>18.000000</td>\n",
       "      <td>2.013073e+07</td>\n",
       "      <td>30000.000000</td>\n",
       "    </tr>\n",
       "    <tr>\n",
       "      <th>25%</th>\n",
       "      <td>45.000000</td>\n",
       "      <td>2.016053e+07</td>\n",
       "      <td>49000.000000</td>\n",
       "    </tr>\n",
       "    <tr>\n",
       "      <th>50%</th>\n",
       "      <td>58.000000</td>\n",
       "      <td>2.017080e+07</td>\n",
       "      <td>64000.000000</td>\n",
       "    </tr>\n",
       "    <tr>\n",
       "      <th>75%</th>\n",
       "      <td>73.000000</td>\n",
       "      <td>2.017123e+07</td>\n",
       "      <td>80000.000000</td>\n",
       "    </tr>\n",
       "    <tr>\n",
       "      <th>max</th>\n",
       "      <td>118.000000</td>\n",
       "      <td>2.018073e+07</td>\n",
       "      <td>120000.000000</td>\n",
       "    </tr>\n",
       "  </tbody>\n",
       "</table>\n",
       "</div>"
      ],
      "text/plain": [
       "                age  became_member_on         income\n",
       "count  17000.000000      1.700000e+04   14825.000000\n",
       "mean      62.531412      2.016703e+07   65404.991568\n",
       "std       26.738580      1.167750e+04   21598.299410\n",
       "min       18.000000      2.013073e+07   30000.000000\n",
       "25%       45.000000      2.016053e+07   49000.000000\n",
       "50%       58.000000      2.017080e+07   64000.000000\n",
       "75%       73.000000      2.017123e+07   80000.000000\n",
       "max      118.000000      2.018073e+07  120000.000000"
      ]
     },
     "execution_count": 7,
     "metadata": {},
     "output_type": "execute_result"
    }
   ],
   "source": [
    "# summary stats for quantitative items\n",
    "profile.describe()"
   ]
  },
  {
   "cell_type": "code",
   "execution_count": 8,
   "metadata": {},
   "outputs": [
    {
     "data": {
      "text/plain": [
       "age                    0\n",
       "became_member_on       0\n",
       "gender              2175\n",
       "id                     0\n",
       "income              2175\n",
       "dtype: int64"
      ]
     },
     "execution_count": 8,
     "metadata": {},
     "output_type": "execute_result"
    }
   ],
   "source": [
    "# check for null values\n",
    "profile.isna().sum()"
   ]
  },
  {
   "cell_type": "markdown",
   "metadata": {},
   "source": [
    "<b>Comments on Profile Data</b>\n",
    "<ul>\n",
    "    <li>Age: Median age is 28, which seems a bit high especially given the fact that the median age in the U.S. is roughly 38 based on data from www.cenusus.gov. This warrants more attention</li>\n",
    "    <li>Null Values: Roughly 13% of records have null information for gender and income. Given that its a relatively small percentage of the records and the dataset is fairly large, we can drop those items from analysis. Prior to droping the values we will try some feature engineering where we will see if absence or presence of gender and income is itself useful for analysis</li>\n",
    "</ul>"
   ]
  },
  {
   "cell_type": "markdown",
   "metadata": {},
   "source": [
    "<b>Transcript</b>\n",
    "\n",
    "User transaction data, detailing purchase activity as well as promotional activity.  "
   ]
  },
  {
   "cell_type": "code",
   "execution_count": 9,
   "metadata": {},
   "outputs": [
    {
     "name": "stdout",
     "output_type": "stream",
     "text": [
      "Shape of Transcript DF (306534, 4)\n"
     ]
    },
    {
     "data": {
      "text/html": [
       "<div>\n",
       "<style scoped>\n",
       "    .dataframe tbody tr th:only-of-type {\n",
       "        vertical-align: middle;\n",
       "    }\n",
       "\n",
       "    .dataframe tbody tr th {\n",
       "        vertical-align: top;\n",
       "    }\n",
       "\n",
       "    .dataframe thead th {\n",
       "        text-align: right;\n",
       "    }\n",
       "</style>\n",
       "<table border=\"1\" class=\"dataframe\">\n",
       "  <thead>\n",
       "    <tr style=\"text-align: right;\">\n",
       "      <th></th>\n",
       "      <th>event</th>\n",
       "      <th>person</th>\n",
       "      <th>time</th>\n",
       "      <th>value</th>\n",
       "    </tr>\n",
       "  </thead>\n",
       "  <tbody>\n",
       "    <tr>\n",
       "      <th>0</th>\n",
       "      <td>offer received</td>\n",
       "      <td>78afa995795e4d85b5d9ceeca43f5fef</td>\n",
       "      <td>0</td>\n",
       "      <td>{'offer id': '9b98b8c7a33c4b65b9aebfe6a799e6d9'}</td>\n",
       "    </tr>\n",
       "    <tr>\n",
       "      <th>1</th>\n",
       "      <td>offer received</td>\n",
       "      <td>a03223e636434f42ac4c3df47e8bac43</td>\n",
       "      <td>0</td>\n",
       "      <td>{'offer id': '0b1e1539f2cc45b7b9fa7c272da2e1d7'}</td>\n",
       "    </tr>\n",
       "    <tr>\n",
       "      <th>2</th>\n",
       "      <td>offer received</td>\n",
       "      <td>e2127556f4f64592b11af22de27a7932</td>\n",
       "      <td>0</td>\n",
       "      <td>{'offer id': '2906b810c7d4411798c6938adc9daaa5'}</td>\n",
       "    </tr>\n",
       "    <tr>\n",
       "      <th>3</th>\n",
       "      <td>offer received</td>\n",
       "      <td>8ec6ce2a7e7949b1bf142def7d0e0586</td>\n",
       "      <td>0</td>\n",
       "      <td>{'offer id': 'fafdcd668e3743c1bb461111dcafc2a4'}</td>\n",
       "    </tr>\n",
       "    <tr>\n",
       "      <th>4</th>\n",
       "      <td>offer received</td>\n",
       "      <td>68617ca6246f4fbc85e91a2a49552598</td>\n",
       "      <td>0</td>\n",
       "      <td>{'offer id': '4d5c57ea9a6940dd891ad53e9dbe8da0'}</td>\n",
       "    </tr>\n",
       "  </tbody>\n",
       "</table>\n",
       "</div>"
      ],
      "text/plain": [
       "            event                            person  time  \\\n",
       "0  offer received  78afa995795e4d85b5d9ceeca43f5fef     0   \n",
       "1  offer received  a03223e636434f42ac4c3df47e8bac43     0   \n",
       "2  offer received  e2127556f4f64592b11af22de27a7932     0   \n",
       "3  offer received  8ec6ce2a7e7949b1bf142def7d0e0586     0   \n",
       "4  offer received  68617ca6246f4fbc85e91a2a49552598     0   \n",
       "\n",
       "                                              value  \n",
       "0  {'offer id': '9b98b8c7a33c4b65b9aebfe6a799e6d9'}  \n",
       "1  {'offer id': '0b1e1539f2cc45b7b9fa7c272da2e1d7'}  \n",
       "2  {'offer id': '2906b810c7d4411798c6938adc9daaa5'}  \n",
       "3  {'offer id': 'fafdcd668e3743c1bb461111dcafc2a4'}  \n",
       "4  {'offer id': '4d5c57ea9a6940dd891ad53e9dbe8da0'}  "
      ]
     },
     "execution_count": 9,
     "metadata": {},
     "output_type": "execute_result"
    }
   ],
   "source": [
    "print(\"Shape of Transcript DF {0}\".format(transcript.shape))\n",
    "transcript.head()"
   ]
  },
  {
   "cell_type": "code",
   "execution_count": 10,
   "metadata": {},
   "outputs": [
    {
     "data": {
      "text/html": [
       "<div>\n",
       "<style scoped>\n",
       "    .dataframe tbody tr th:only-of-type {\n",
       "        vertical-align: middle;\n",
       "    }\n",
       "\n",
       "    .dataframe tbody tr th {\n",
       "        vertical-align: top;\n",
       "    }\n",
       "\n",
       "    .dataframe thead th {\n",
       "        text-align: right;\n",
       "    }\n",
       "</style>\n",
       "<table border=\"1\" class=\"dataframe\">\n",
       "  <thead>\n",
       "    <tr style=\"text-align: right;\">\n",
       "      <th></th>\n",
       "      <th>time</th>\n",
       "    </tr>\n",
       "  </thead>\n",
       "  <tbody>\n",
       "    <tr>\n",
       "      <th>count</th>\n",
       "      <td>306534.000000</td>\n",
       "    </tr>\n",
       "    <tr>\n",
       "      <th>mean</th>\n",
       "      <td>366.382940</td>\n",
       "    </tr>\n",
       "    <tr>\n",
       "      <th>std</th>\n",
       "      <td>200.326314</td>\n",
       "    </tr>\n",
       "    <tr>\n",
       "      <th>min</th>\n",
       "      <td>0.000000</td>\n",
       "    </tr>\n",
       "    <tr>\n",
       "      <th>25%</th>\n",
       "      <td>186.000000</td>\n",
       "    </tr>\n",
       "    <tr>\n",
       "      <th>50%</th>\n",
       "      <td>408.000000</td>\n",
       "    </tr>\n",
       "    <tr>\n",
       "      <th>75%</th>\n",
       "      <td>528.000000</td>\n",
       "    </tr>\n",
       "    <tr>\n",
       "      <th>max</th>\n",
       "      <td>714.000000</td>\n",
       "    </tr>\n",
       "  </tbody>\n",
       "</table>\n",
       "</div>"
      ],
      "text/plain": [
       "                time\n",
       "count  306534.000000\n",
       "mean      366.382940\n",
       "std       200.326314\n",
       "min         0.000000\n",
       "25%       186.000000\n",
       "50%       408.000000\n",
       "75%       528.000000\n",
       "max       714.000000"
      ]
     },
     "execution_count": 10,
     "metadata": {},
     "output_type": "execute_result"
    }
   ],
   "source": [
    "transcript.describe()"
   ]
  },
  {
   "cell_type": "code",
   "execution_count": 11,
   "metadata": {},
   "outputs": [
    {
     "data": {
      "text/plain": [
       "event     0\n",
       "person    0\n",
       "time      0\n",
       "value     0\n",
       "dtype: int64"
      ]
     },
     "execution_count": 11,
     "metadata": {},
     "output_type": "execute_result"
    }
   ],
   "source": [
    "# check for null values\n",
    "transcript.isna().sum()"
   ]
  },
  {
   "cell_type": "code",
   "execution_count": 12,
   "metadata": {},
   "outputs": [
    {
     "data": {
      "text/plain": [
       "transaction        138953\n",
       "offer received      76277\n",
       "offer viewed        57725\n",
       "offer completed     33579\n",
       "Name: event, dtype: int64"
      ]
     },
     "execution_count": 12,
     "metadata": {},
     "output_type": "execute_result"
    }
   ],
   "source": [
    "# check the different type of 'event' items and the relative frequency of each\n",
    "transcript['event'].value_counts()"
   ]
  },
  {
   "cell_type": "markdown",
   "metadata": {},
   "source": [
    "To get a sense of what information is contained in value, select 5 of each type of event and review data."
   ]
  },
  {
   "cell_type": "code",
   "execution_count": 13,
   "metadata": {},
   "outputs": [
    {
     "data": {
      "text/plain": [
       "102735     {'amount': 12.5}\n",
       "132079     {'amount': 1.07}\n",
       "200486    {'amount': 37.28}\n",
       "26598     {'amount': 17.09}\n",
       "108108     {'amount': 0.87}\n",
       "Name: value, dtype: object"
      ]
     },
     "execution_count": 13,
     "metadata": {},
     "output_type": "execute_result"
    }
   ],
   "source": [
    "transcript.query('event==\"transaction\"')['value'].sample(5)"
   ]
  },
  {
   "cell_type": "code",
   "execution_count": 14,
   "metadata": {},
   "outputs": [
    {
     "data": {
      "text/plain": [
       "59626     {'offer id': '0b1e1539f2cc45b7b9fa7c272da2e1d7'}\n",
       "60667     {'offer id': 'ae264e3637204a6fb9bb56bc8210ddfd'}\n",
       "64787     {'offer id': 'fafdcd668e3743c1bb461111dcafc2a4'}\n",
       "56911     {'offer id': '5a8bc65990b245e5a138643cd4eb9837'}\n",
       "121042    {'offer id': '2298d6c36e964ae4a3e7e9706d1fb8c2'}\n",
       "Name: value, dtype: object"
      ]
     },
     "execution_count": 14,
     "metadata": {},
     "output_type": "execute_result"
    }
   ],
   "source": [
    "transcript.query('event==\"offer received\"')['value'].sample(5)"
   ]
  },
  {
   "cell_type": "code",
   "execution_count": 15,
   "metadata": {},
   "outputs": [
    {
     "data": {
      "text/plain": [
       "125688    {'offer id': 'ae264e3637204a6fb9bb56bc8210ddfd'}\n",
       "14846     {'offer id': 'f19421c1d4aa40978ebb69ca19b0e20d'}\n",
       "274370    {'offer id': '2906b810c7d4411798c6938adc9daaa5'}\n",
       "22667     {'offer id': '5a8bc65990b245e5a138643cd4eb9837'}\n",
       "20198     {'offer id': '2906b810c7d4411798c6938adc9daaa5'}\n",
       "Name: value, dtype: object"
      ]
     },
     "execution_count": 15,
     "metadata": {},
     "output_type": "execute_result"
    }
   ],
   "source": [
    "transcript.query('event==\"offer viewed\"')['value'].sample(5)"
   ]
  },
  {
   "cell_type": "code",
   "execution_count": 16,
   "metadata": {},
   "outputs": [
    {
     "data": {
      "text/plain": [
       "229049    {'offer_id': 'f19421c1d4aa40978ebb69ca19b0e20d', 'reward': 5}\n",
       "185005    {'offer_id': '9b98b8c7a33c4b65b9aebfe6a799e6d9', 'reward': 5}\n",
       "48577     {'offer_id': '2906b810c7d4411798c6938adc9daaa5', 'reward': 2}\n",
       "276946    {'offer_id': 'fafdcd668e3743c1bb461111dcafc2a4', 'reward': 2}\n",
       "78959     {'offer_id': '2906b810c7d4411798c6938adc9daaa5', 'reward': 2}\n",
       "Name: value, dtype: object"
      ]
     },
     "execution_count": 16,
     "metadata": {},
     "output_type": "execute_result"
    }
   ],
   "source": [
    "pd.set_option('display.max_colwidth', 100)\n",
    "transcript.query('event==\"offer completed\"')['value'].sample(5)"
   ]
  },
  {
   "cell_type": "markdown",
   "metadata": {},
   "source": [
    "After reviewing the type of data contained within 'Value', it's clear that we will need to extract the actual dollar amounts for events associated with 'Offer Completed' and 'transaction'."
   ]
  },
  {
   "cell_type": "markdown",
   "metadata": {},
   "source": [
    "<h2>Data Cleaning and Feature Engineering Part 1</h2>\n",
    "\n",
    "Based on our initial review of the data, there are some immediate areas that could benefit future exploratory efforts.\n",
    "\n",
    "To do\n",
    "<ul>\n",
    "    <li>Portfolio, 'Channels': Though the content looks like a list/array, the item itself is simply a string. We need to process this string to create new boolean columns that indicate if an item is distributed via email, mobile, or social. Creating this new feature will allow us to better analyze the data.  </li>    \n",
    "    <li>Portfolio, 'Offer Type': Encode the variable via python get_dummies.\n",
    "    <li>\n",
    "     Profile, 'Income' and 'Age': Both of this variables lend themselves to bucketing into quartiles, and creating a categorical variable that denotes the quartile that individual falls into for a given variable. This will allow us to compare individuals in the top quartile to individuals in the bottom quartile, by age and income, to determine if there is an useable relationship to our end goal of optimizing offers. We will also encode these variables for model development later on.\n",
    "    </li>\n",
    "    <li>Profile, 'Gender': Encode this variable</li>\n",
    "    <li>Transcript, 'Value': parse the column to extract amount and reward\n",
    "</ul>\n",
    "\n"
   ]
  },
  {
   "cell_type": "code",
   "execution_count": 3,
   "metadata": {},
   "outputs": [],
   "source": [
    "# Copy data to preven having to reload later\n",
    "df_portfolio = portfolio.copy()\n",
    "df_profile = profile.copy()\n",
    "df_transcript = transcript.copy()"
   ]
  },
  {
   "cell_type": "code",
   "execution_count": 4,
   "metadata": {},
   "outputs": [],
   "source": [
    "# process portfolio\n",
    "def process_portfolio(df):\n",
    "    '''\n",
    "    Cleans the portfolio dataframe\n",
    "    \n",
    "    Input - df, DataFrame\n",
    "    \n",
    "    Output - df_return, Cleaned DataFrame\n",
    "    '''\n",
    "    # Create boolean columns for each channel type \n",
    "    df['email'] = df['channels'].apply(lambda x: 1 if 'email' in x else 0)\n",
    "    df['mobile'] = df['channels'].apply(lambda x: 1 if 'mobile' in x else 0)\n",
    "    df['social'] = df['channels'].apply(lambda x: 1 if 'social' in x else 0)\n",
    "    df['web'] = df['channels'].apply(lambda x: 1 if 'web' in x else 0)\n",
    "    \n",
    "    # encode offer type\n",
    "    df_encode = pd.get_dummies(df['offer_type'], prefix='offer_type', prefix_sep='_')\n",
    "    # concat dataframes, drop duplicate columns, .drop(['offer_type','channels'], axis=1)\n",
    "    df_return = pd.concat([df.drop(['channels'], axis=1),df_encode], axis=1)\n",
    "    # rename id to offer ID to match transcript \n",
    "    df_return.rename(columns={'id':'offer_id'},inplace=True)\n",
    "    \n",
    "    # calculate 'payoff', higher is better\n",
    "    df_return['payoff'] = round(df_return['reward']/df_return['difficulty'],2) \n",
    "    df_return['payoff_ease'] = round((df_return['reward']/df_return['difficulty'])*df_return['duration'],2)\n",
    "    \n",
    "    return df_return\n",
    "# process profile df\n",
    "def process_profile(df):\n",
    "    '''\n",
    "    Processes the portfolio dataframe\n",
    "    \n",
    "    Input - df, DataFrame\n",
    "    \n",
    "    Output - df_return, Processed DataFrame\n",
    "    '''\n",
    "    # Create bins for age based on .describe from earlier, excluding 118\n",
    "    age_bins_edges = [18,42,55,66,101]\n",
    "    age_bins_label = ['Q1','Q2','Q3','Q4']\n",
    "    df['age_bin'] = pd.cut(df['age'], age_bins_edges, labels = age_bins_label)\n",
    "    \n",
    "    \n",
    "    # Create bins for income based on .describe from earlier, excluding 118\n",
    "    income_bins_edges = [30000,49000,64000,80000,120000]\n",
    "    income_bins_label = ['Q1','Q2','Q3','Q4']\n",
    "    df['income_bin'] = pd.cut(df['income'], income_bins_edges, labels = income_bins_label)\n",
    "    \n",
    "    #Convert became_member_on to datetime\n",
    "    df['became_member_on'] = pd.to_datetime(df['became_member_on'],format='%Y%m%d')\n",
    "    \n",
    "    today = pd.to_datetime(datetime.today().strftime('%Y%m%d'))\n",
    "    df['member_length_d'] = (today - df['became_member_on']) / np.timedelta64(1,'D')\n",
    "    \n",
    "    # bin edges defined using quartile data from df.describe()\n",
    "    memberLength_bins_edges = [1292,1500,1650,2083,3115]\n",
    "    memberLength_bins_label = ['Q1','Q2','Q3','Q4']\n",
    "    df['member_length_bin'] = pd.cut(df['member_length_d'], memberLength_bins_edges, labels = memberLength_bins_label)\n",
    "    \n",
    "    # encode gender\n",
    "    df_encode_gender = pd.get_dummies(df['gender'], prefix='gender', prefix_sep='_')\n",
    "    \n",
    "    # encode age quartiles\n",
    "    df_encode_age = pd.get_dummies(df['age_bin'], prefix='age', prefix_sep='_')\n",
    "    \n",
    "    # encode age income\n",
    "    df_encode_income = pd.get_dummies(df['income_bin'], prefix='income', prefix_sep='_')\n",
    "    \n",
    "    # encode membership days\n",
    "    df_encode_member_days = pd.get_dummies(df['member_length_bin'], prefix='member_length', prefix_sep='_')\n",
    "    \n",
    "    df_return =  pd.concat([df,df_encode_gender,df_encode_age,df_encode_income,df_encode_member_days], axis=1)\n",
    "    # rename id to user_id to avoid confusion\n",
    "    df_return.rename(columns={'id':'user_id'},inplace=True)\n",
    "    # get length of membership\n",
    "    \n",
    "    \n",
    "    return df_return\n",
    "\n",
    "def process_transcript(df):\n",
    "    '''\n",
    "        Process the transcript df\n",
    "        Input - df, DataFrame\n",
    "        Output -df_return, Processed DataFrame\n",
    "    '''\n",
    "    # get reward and purchase amount\n",
    "    for i in ['reward','amount']:\n",
    "        df[i] = df['value'].apply(lambda x:x[i] if i in x else None)\n",
    "                \n",
    "    #Extract offer_id from value column\n",
    "    df['offer_id'] = df['value'].apply(lambda x: x['offer_id'] if 'offer_id' in x else (x['offer id'] if 'offer id' in x else None))\n",
    "    \n",
    "    #rename reward and amount\n",
    "    df.rename(columns={'reward':'reward_amount','amount':'spend_amount','person':'user_id'},inplace=True)\n",
    "    \n",
    "    # encode event\n",
    "    df_encode = pd.get_dummies(df['event'], prefix='event', prefix_sep='_')\n",
    "    df_return = pd.concat([df, df_encode], axis=1)\n",
    "     \n",
    "    return df_return\n",
    "\n",
    "def create_df_offer_completion(df):\n",
    "    '''\n",
    "        Intakes the transcript dataframe and returns a dataframe with offer evaluation columns that indicate offer success\n",
    "        Input - Transcript Dataframe\n",
    "        Output - Dataframe with offer success data\n",
    "        \n",
    "        Note, given the definition of 'success' of a user viewing an offer and completing the offer requires spending x amount\n",
    "        an informational offer will never be listed as 'success'. As a result, we will exclude this in part of the analysis as \n",
    "        the success rate will always be 0% for an informational offer.\n",
    "    '''\n",
    "    # create df with offer effectiveness\n",
    "    df_offer_completion = df.groupby(['user_id','offer_id','event'])['time'].count().unstack()\n",
    "    df_offer_completion.reset_index(level=[0,1],inplace = True)\n",
    "    df_offer_completion.fillna(0.0, inplace = True)\n",
    "    # an effective offer takes place when 1) completes requirments for offer AND 2) user views an offer\n",
    "    df_offer_completion['effective_offer'] = df_offer_completion['offer completed'] * df_offer_completion['offer viewed']\n",
    "    # create binary variable\n",
    "    df_offer_completion['effective_offer'] = df_offer_completion['effective_offer'].apply(lambda x: 1.0 if x>0 else 0.0)\n",
    "    return df_offer_completion\n",
    "  \n"
   ]
  },
  {
   "cell_type": "code",
   "execution_count": 5,
   "metadata": {},
   "outputs": [
    {
     "data": {
      "text/html": [
       "<div>\n",
       "<style scoped>\n",
       "    .dataframe tbody tr th:only-of-type {\n",
       "        vertical-align: middle;\n",
       "    }\n",
       "\n",
       "    .dataframe tbody tr th {\n",
       "        vertical-align: top;\n",
       "    }\n",
       "\n",
       "    .dataframe thead th {\n",
       "        text-align: right;\n",
       "    }\n",
       "</style>\n",
       "<table border=\"1\" class=\"dataframe\">\n",
       "  <thead>\n",
       "    <tr style=\"text-align: right;\">\n",
       "      <th></th>\n",
       "      <th>difficulty</th>\n",
       "      <th>duration</th>\n",
       "      <th>offer_id</th>\n",
       "      <th>offer_type</th>\n",
       "      <th>reward</th>\n",
       "      <th>email</th>\n",
       "      <th>mobile</th>\n",
       "      <th>social</th>\n",
       "      <th>web</th>\n",
       "      <th>offer_type_bogo</th>\n",
       "      <th>offer_type_discount</th>\n",
       "      <th>offer_type_informational</th>\n",
       "      <th>payoff</th>\n",
       "      <th>payoff_ease</th>\n",
       "    </tr>\n",
       "  </thead>\n",
       "  <tbody>\n",
       "    <tr>\n",
       "      <th>0</th>\n",
       "      <td>10</td>\n",
       "      <td>7</td>\n",
       "      <td>ae264e3637204a6fb9bb56bc8210ddfd</td>\n",
       "      <td>bogo</td>\n",
       "      <td>10</td>\n",
       "      <td>1</td>\n",
       "      <td>1</td>\n",
       "      <td>1</td>\n",
       "      <td>0</td>\n",
       "      <td>1</td>\n",
       "      <td>0</td>\n",
       "      <td>0</td>\n",
       "      <td>1.00</td>\n",
       "      <td>7.0</td>\n",
       "    </tr>\n",
       "    <tr>\n",
       "      <th>1</th>\n",
       "      <td>10</td>\n",
       "      <td>5</td>\n",
       "      <td>4d5c57ea9a6940dd891ad53e9dbe8da0</td>\n",
       "      <td>bogo</td>\n",
       "      <td>10</td>\n",
       "      <td>1</td>\n",
       "      <td>1</td>\n",
       "      <td>1</td>\n",
       "      <td>1</td>\n",
       "      <td>1</td>\n",
       "      <td>0</td>\n",
       "      <td>0</td>\n",
       "      <td>1.00</td>\n",
       "      <td>5.0</td>\n",
       "    </tr>\n",
       "    <tr>\n",
       "      <th>2</th>\n",
       "      <td>0</td>\n",
       "      <td>4</td>\n",
       "      <td>3f207df678b143eea3cee63160fa8bed</td>\n",
       "      <td>informational</td>\n",
       "      <td>0</td>\n",
       "      <td>1</td>\n",
       "      <td>1</td>\n",
       "      <td>0</td>\n",
       "      <td>1</td>\n",
       "      <td>0</td>\n",
       "      <td>0</td>\n",
       "      <td>1</td>\n",
       "      <td>NaN</td>\n",
       "      <td>NaN</td>\n",
       "    </tr>\n",
       "    <tr>\n",
       "      <th>3</th>\n",
       "      <td>5</td>\n",
       "      <td>7</td>\n",
       "      <td>9b98b8c7a33c4b65b9aebfe6a799e6d9</td>\n",
       "      <td>bogo</td>\n",
       "      <td>5</td>\n",
       "      <td>1</td>\n",
       "      <td>1</td>\n",
       "      <td>0</td>\n",
       "      <td>1</td>\n",
       "      <td>1</td>\n",
       "      <td>0</td>\n",
       "      <td>0</td>\n",
       "      <td>1.00</td>\n",
       "      <td>7.0</td>\n",
       "    </tr>\n",
       "    <tr>\n",
       "      <th>4</th>\n",
       "      <td>20</td>\n",
       "      <td>10</td>\n",
       "      <td>0b1e1539f2cc45b7b9fa7c272da2e1d7</td>\n",
       "      <td>discount</td>\n",
       "      <td>5</td>\n",
       "      <td>1</td>\n",
       "      <td>0</td>\n",
       "      <td>0</td>\n",
       "      <td>1</td>\n",
       "      <td>0</td>\n",
       "      <td>1</td>\n",
       "      <td>0</td>\n",
       "      <td>0.25</td>\n",
       "      <td>2.5</td>\n",
       "    </tr>\n",
       "  </tbody>\n",
       "</table>\n",
       "</div>"
      ],
      "text/plain": [
       "   difficulty  duration                          offer_id     offer_type  \\\n",
       "0          10         7  ae264e3637204a6fb9bb56bc8210ddfd           bogo   \n",
       "1          10         5  4d5c57ea9a6940dd891ad53e9dbe8da0           bogo   \n",
       "2           0         4  3f207df678b143eea3cee63160fa8bed  informational   \n",
       "3           5         7  9b98b8c7a33c4b65b9aebfe6a799e6d9           bogo   \n",
       "4          20        10  0b1e1539f2cc45b7b9fa7c272da2e1d7       discount   \n",
       "\n",
       "   reward  email  mobile  social  web  offer_type_bogo  offer_type_discount  \\\n",
       "0      10      1       1       1    0                1                    0   \n",
       "1      10      1       1       1    1                1                    0   \n",
       "2       0      1       1       0    1                0                    0   \n",
       "3       5      1       1       0    1                1                    0   \n",
       "4       5      1       0       0    1                0                    1   \n",
       "\n",
       "   offer_type_informational  payoff  payoff_ease  \n",
       "0                         0    1.00          7.0  \n",
       "1                         0    1.00          5.0  \n",
       "2                         1     NaN          NaN  \n",
       "3                         0    1.00          7.0  \n",
       "4                         0    0.25          2.5  "
      ]
     },
     "execution_count": 5,
     "metadata": {},
     "output_type": "execute_result"
    }
   ],
   "source": [
    "# create new DataFrames, and applying data processing via functions\n",
    "df_portfolio = process_portfolio(portfolio.copy())\n",
    "df_profile = process_profile(profile.copy())\n",
    "df_transcript = process_transcript(transcript.copy())\n",
    "\n",
    "df_portfolio.head()"
   ]
  },
  {
   "cell_type": "code",
   "execution_count": 8,
   "metadata": {},
   "outputs": [
    {
     "data": {
      "text/html": [
       "<div>\n",
       "<style scoped>\n",
       "    .dataframe tbody tr th:only-of-type {\n",
       "        vertical-align: middle;\n",
       "    }\n",
       "\n",
       "    .dataframe tbody tr th {\n",
       "        vertical-align: top;\n",
       "    }\n",
       "\n",
       "    .dataframe thead th {\n",
       "        text-align: right;\n",
       "    }\n",
       "</style>\n",
       "<table border=\"1\" class=\"dataframe\">\n",
       "  <thead>\n",
       "    <tr style=\"text-align: right;\">\n",
       "      <th></th>\n",
       "      <th>age</th>\n",
       "      <th>became_member_on</th>\n",
       "      <th>gender</th>\n",
       "      <th>user_id</th>\n",
       "      <th>income</th>\n",
       "      <th>age_bin</th>\n",
       "      <th>income_bin</th>\n",
       "      <th>member_length_d</th>\n",
       "      <th>member_length_bin</th>\n",
       "      <th>gender_F</th>\n",
       "      <th>...</th>\n",
       "      <th>age_Q3</th>\n",
       "      <th>age_Q4</th>\n",
       "      <th>income_Q1</th>\n",
       "      <th>income_Q2</th>\n",
       "      <th>income_Q3</th>\n",
       "      <th>income_Q4</th>\n",
       "      <th>member_length_Q1</th>\n",
       "      <th>member_length_Q2</th>\n",
       "      <th>member_length_Q3</th>\n",
       "      <th>member_length_Q4</th>\n",
       "    </tr>\n",
       "  </thead>\n",
       "  <tbody>\n",
       "    <tr>\n",
       "      <th>16084</th>\n",
       "      <td>47</td>\n",
       "      <td>2018-01-26</td>\n",
       "      <td>M</td>\n",
       "      <td>94e2a10158e748e0a4a233f660f8cc85</td>\n",
       "      <td>31000.0</td>\n",
       "      <td>Q2</td>\n",
       "      <td>Q1</td>\n",
       "      <td>1486.0</td>\n",
       "      <td>Q1</td>\n",
       "      <td>0</td>\n",
       "      <td>...</td>\n",
       "      <td>0</td>\n",
       "      <td>0</td>\n",
       "      <td>1</td>\n",
       "      <td>0</td>\n",
       "      <td>0</td>\n",
       "      <td>0</td>\n",
       "      <td>1</td>\n",
       "      <td>0</td>\n",
       "      <td>0</td>\n",
       "      <td>0</td>\n",
       "    </tr>\n",
       "    <tr>\n",
       "      <th>5549</th>\n",
       "      <td>43</td>\n",
       "      <td>2015-08-25</td>\n",
       "      <td>O</td>\n",
       "      <td>93372c50aa324bc799b9d5b74070ea21</td>\n",
       "      <td>78000.0</td>\n",
       "      <td>Q2</td>\n",
       "      <td>Q3</td>\n",
       "      <td>2371.0</td>\n",
       "      <td>Q4</td>\n",
       "      <td>0</td>\n",
       "      <td>...</td>\n",
       "      <td>0</td>\n",
       "      <td>0</td>\n",
       "      <td>0</td>\n",
       "      <td>0</td>\n",
       "      <td>1</td>\n",
       "      <td>0</td>\n",
       "      <td>0</td>\n",
       "      <td>0</td>\n",
       "      <td>0</td>\n",
       "      <td>1</td>\n",
       "    </tr>\n",
       "    <tr>\n",
       "      <th>8698</th>\n",
       "      <td>44</td>\n",
       "      <td>2017-11-10</td>\n",
       "      <td>M</td>\n",
       "      <td>4833c82a254f4c4b97f01ca24d8a5f2d</td>\n",
       "      <td>93000.0</td>\n",
       "      <td>Q2</td>\n",
       "      <td>Q4</td>\n",
       "      <td>1563.0</td>\n",
       "      <td>Q2</td>\n",
       "      <td>0</td>\n",
       "      <td>...</td>\n",
       "      <td>0</td>\n",
       "      <td>0</td>\n",
       "      <td>0</td>\n",
       "      <td>0</td>\n",
       "      <td>0</td>\n",
       "      <td>1</td>\n",
       "      <td>0</td>\n",
       "      <td>1</td>\n",
       "      <td>0</td>\n",
       "      <td>0</td>\n",
       "    </tr>\n",
       "    <tr>\n",
       "      <th>9721</th>\n",
       "      <td>63</td>\n",
       "      <td>2017-10-01</td>\n",
       "      <td>M</td>\n",
       "      <td>b5ab65ab4b194ac2909bf47bc4d87c8c</td>\n",
       "      <td>34000.0</td>\n",
       "      <td>Q3</td>\n",
       "      <td>Q1</td>\n",
       "      <td>1603.0</td>\n",
       "      <td>Q2</td>\n",
       "      <td>0</td>\n",
       "      <td>...</td>\n",
       "      <td>1</td>\n",
       "      <td>0</td>\n",
       "      <td>1</td>\n",
       "      <td>0</td>\n",
       "      <td>0</td>\n",
       "      <td>0</td>\n",
       "      <td>0</td>\n",
       "      <td>1</td>\n",
       "      <td>0</td>\n",
       "      <td>0</td>\n",
       "    </tr>\n",
       "    <tr>\n",
       "      <th>10772</th>\n",
       "      <td>94</td>\n",
       "      <td>2018-03-21</td>\n",
       "      <td>F</td>\n",
       "      <td>4dff5aacb2a1459f8a408a2907fec185</td>\n",
       "      <td>86000.0</td>\n",
       "      <td>Q4</td>\n",
       "      <td>Q4</td>\n",
       "      <td>1432.0</td>\n",
       "      <td>Q1</td>\n",
       "      <td>1</td>\n",
       "      <td>...</td>\n",
       "      <td>0</td>\n",
       "      <td>1</td>\n",
       "      <td>0</td>\n",
       "      <td>0</td>\n",
       "      <td>0</td>\n",
       "      <td>1</td>\n",
       "      <td>1</td>\n",
       "      <td>0</td>\n",
       "      <td>0</td>\n",
       "      <td>0</td>\n",
       "    </tr>\n",
       "  </tbody>\n",
       "</table>\n",
       "<p>5 rows × 24 columns</p>\n",
       "</div>"
      ],
      "text/plain": [
       "       age became_member_on gender                           user_id   income  \\\n",
       "16084   47       2018-01-26      M  94e2a10158e748e0a4a233f660f8cc85  31000.0   \n",
       "5549    43       2015-08-25      O  93372c50aa324bc799b9d5b74070ea21  78000.0   \n",
       "8698    44       2017-11-10      M  4833c82a254f4c4b97f01ca24d8a5f2d  93000.0   \n",
       "9721    63       2017-10-01      M  b5ab65ab4b194ac2909bf47bc4d87c8c  34000.0   \n",
       "10772   94       2018-03-21      F  4dff5aacb2a1459f8a408a2907fec185  86000.0   \n",
       "\n",
       "      age_bin income_bin  member_length_d member_length_bin  gender_F  \\\n",
       "16084      Q2         Q1           1486.0                Q1         0   \n",
       "5549       Q2         Q3           2371.0                Q4         0   \n",
       "8698       Q2         Q4           1563.0                Q2         0   \n",
       "9721       Q3         Q1           1603.0                Q2         0   \n",
       "10772      Q4         Q4           1432.0                Q1         1   \n",
       "\n",
       "             ...         age_Q3  age_Q4  income_Q1  income_Q2  income_Q3  \\\n",
       "16084        ...              0       0          1          0          0   \n",
       "5549         ...              0       0          0          0          1   \n",
       "8698         ...              0       0          0          0          0   \n",
       "9721         ...              1       0          1          0          0   \n",
       "10772        ...              0       1          0          0          0   \n",
       "\n",
       "       income_Q4  member_length_Q1  member_length_Q2  member_length_Q3  \\\n",
       "16084          0                 1                 0                 0   \n",
       "5549           0                 0                 0                 0   \n",
       "8698           1                 0                 1                 0   \n",
       "9721           0                 0                 1                 0   \n",
       "10772          1                 1                 0                 0   \n",
       "\n",
       "       member_length_Q4  \n",
       "16084                 0  \n",
       "5549                  1  \n",
       "8698                  0  \n",
       "9721                  0  \n",
       "10772                 0  \n",
       "\n",
       "[5 rows x 24 columns]"
      ]
     },
     "execution_count": 8,
     "metadata": {},
     "output_type": "execute_result"
    }
   ],
   "source": [
    "df_profile.sample(5)"
   ]
  },
  {
   "cell_type": "code",
   "execution_count": 10,
   "metadata": {},
   "outputs": [
    {
     "data": {
      "text/html": [
       "<div>\n",
       "<style scoped>\n",
       "    .dataframe tbody tr th:only-of-type {\n",
       "        vertical-align: middle;\n",
       "    }\n",
       "\n",
       "    .dataframe tbody tr th {\n",
       "        vertical-align: top;\n",
       "    }\n",
       "\n",
       "    .dataframe thead th {\n",
       "        text-align: right;\n",
       "    }\n",
       "</style>\n",
       "<table border=\"1\" class=\"dataframe\">\n",
       "  <thead>\n",
       "    <tr style=\"text-align: right;\">\n",
       "      <th></th>\n",
       "      <th>event</th>\n",
       "      <th>user_id</th>\n",
       "      <th>time</th>\n",
       "      <th>value</th>\n",
       "      <th>reward_amount</th>\n",
       "      <th>spend_amount</th>\n",
       "      <th>offer_id</th>\n",
       "      <th>event_offer completed</th>\n",
       "      <th>event_offer received</th>\n",
       "      <th>event_offer viewed</th>\n",
       "      <th>event_transaction</th>\n",
       "    </tr>\n",
       "  </thead>\n",
       "  <tbody>\n",
       "    <tr>\n",
       "      <th>0</th>\n",
       "      <td>offer received</td>\n",
       "      <td>78afa995795e4d85b5d9ceeca43f5fef</td>\n",
       "      <td>0</td>\n",
       "      <td>{'offer id': '9b98b8c7a33c4b65b9aebfe6a799e6d9'}</td>\n",
       "      <td>NaN</td>\n",
       "      <td>NaN</td>\n",
       "      <td>9b98b8c7a33c4b65b9aebfe6a799e6d9</td>\n",
       "      <td>0</td>\n",
       "      <td>1</td>\n",
       "      <td>0</td>\n",
       "      <td>0</td>\n",
       "    </tr>\n",
       "    <tr>\n",
       "      <th>1</th>\n",
       "      <td>offer received</td>\n",
       "      <td>a03223e636434f42ac4c3df47e8bac43</td>\n",
       "      <td>0</td>\n",
       "      <td>{'offer id': '0b1e1539f2cc45b7b9fa7c272da2e1d7'}</td>\n",
       "      <td>NaN</td>\n",
       "      <td>NaN</td>\n",
       "      <td>0b1e1539f2cc45b7b9fa7c272da2e1d7</td>\n",
       "      <td>0</td>\n",
       "      <td>1</td>\n",
       "      <td>0</td>\n",
       "      <td>0</td>\n",
       "    </tr>\n",
       "    <tr>\n",
       "      <th>2</th>\n",
       "      <td>offer received</td>\n",
       "      <td>e2127556f4f64592b11af22de27a7932</td>\n",
       "      <td>0</td>\n",
       "      <td>{'offer id': '2906b810c7d4411798c6938adc9daaa5'}</td>\n",
       "      <td>NaN</td>\n",
       "      <td>NaN</td>\n",
       "      <td>2906b810c7d4411798c6938adc9daaa5</td>\n",
       "      <td>0</td>\n",
       "      <td>1</td>\n",
       "      <td>0</td>\n",
       "      <td>0</td>\n",
       "    </tr>\n",
       "    <tr>\n",
       "      <th>3</th>\n",
       "      <td>offer received</td>\n",
       "      <td>8ec6ce2a7e7949b1bf142def7d0e0586</td>\n",
       "      <td>0</td>\n",
       "      <td>{'offer id': 'fafdcd668e3743c1bb461111dcafc2a4'}</td>\n",
       "      <td>NaN</td>\n",
       "      <td>NaN</td>\n",
       "      <td>fafdcd668e3743c1bb461111dcafc2a4</td>\n",
       "      <td>0</td>\n",
       "      <td>1</td>\n",
       "      <td>0</td>\n",
       "      <td>0</td>\n",
       "    </tr>\n",
       "    <tr>\n",
       "      <th>4</th>\n",
       "      <td>offer received</td>\n",
       "      <td>68617ca6246f4fbc85e91a2a49552598</td>\n",
       "      <td>0</td>\n",
       "      <td>{'offer id': '4d5c57ea9a6940dd891ad53e9dbe8da0'}</td>\n",
       "      <td>NaN</td>\n",
       "      <td>NaN</td>\n",
       "      <td>4d5c57ea9a6940dd891ad53e9dbe8da0</td>\n",
       "      <td>0</td>\n",
       "      <td>1</td>\n",
       "      <td>0</td>\n",
       "      <td>0</td>\n",
       "    </tr>\n",
       "  </tbody>\n",
       "</table>\n",
       "</div>"
      ],
      "text/plain": [
       "            event                           user_id  time  \\\n",
       "0  offer received  78afa995795e4d85b5d9ceeca43f5fef     0   \n",
       "1  offer received  a03223e636434f42ac4c3df47e8bac43     0   \n",
       "2  offer received  e2127556f4f64592b11af22de27a7932     0   \n",
       "3  offer received  8ec6ce2a7e7949b1bf142def7d0e0586     0   \n",
       "4  offer received  68617ca6246f4fbc85e91a2a49552598     0   \n",
       "\n",
       "                                              value  reward_amount  \\\n",
       "0  {'offer id': '9b98b8c7a33c4b65b9aebfe6a799e6d9'}            NaN   \n",
       "1  {'offer id': '0b1e1539f2cc45b7b9fa7c272da2e1d7'}            NaN   \n",
       "2  {'offer id': '2906b810c7d4411798c6938adc9daaa5'}            NaN   \n",
       "3  {'offer id': 'fafdcd668e3743c1bb461111dcafc2a4'}            NaN   \n",
       "4  {'offer id': '4d5c57ea9a6940dd891ad53e9dbe8da0'}            NaN   \n",
       "\n",
       "   spend_amount                          offer_id  event_offer completed  \\\n",
       "0           NaN  9b98b8c7a33c4b65b9aebfe6a799e6d9                      0   \n",
       "1           NaN  0b1e1539f2cc45b7b9fa7c272da2e1d7                      0   \n",
       "2           NaN  2906b810c7d4411798c6938adc9daaa5                      0   \n",
       "3           NaN  fafdcd668e3743c1bb461111dcafc2a4                      0   \n",
       "4           NaN  4d5c57ea9a6940dd891ad53e9dbe8da0                      0   \n",
       "\n",
       "   event_offer received  event_offer viewed  event_transaction  \n",
       "0                     1                   0                  0  \n",
       "1                     1                   0                  0  \n",
       "2                     1                   0                  0  \n",
       "3                     1                   0                  0  \n",
       "4                     1                   0                  0  "
      ]
     },
     "execution_count": 10,
     "metadata": {},
     "output_type": "execute_result"
    }
   ],
   "source": [
    "df_transcript.head(5)"
   ]
  },
  {
   "cell_type": "code",
   "execution_count": 6,
   "metadata": {},
   "outputs": [
    {
     "data": {
      "text/html": [
       "<div>\n",
       "<style scoped>\n",
       "    .dataframe tbody tr th:only-of-type {\n",
       "        vertical-align: middle;\n",
       "    }\n",
       "\n",
       "    .dataframe tbody tr th {\n",
       "        vertical-align: top;\n",
       "    }\n",
       "\n",
       "    .dataframe thead th {\n",
       "        text-align: right;\n",
       "    }\n",
       "</style>\n",
       "<table border=\"1\" class=\"dataframe\">\n",
       "  <thead>\n",
       "    <tr style=\"text-align: right;\">\n",
       "      <th>event</th>\n",
       "      <th>user_id</th>\n",
       "      <th>offer_id</th>\n",
       "      <th>offer completed</th>\n",
       "      <th>offer received</th>\n",
       "      <th>offer viewed</th>\n",
       "      <th>effective_offer</th>\n",
       "    </tr>\n",
       "  </thead>\n",
       "  <tbody>\n",
       "    <tr>\n",
       "      <th>0</th>\n",
       "      <td>0009655768c64bdeb2e877511632db8f</td>\n",
       "      <td>2906b810c7d4411798c6938adc9daaa5</td>\n",
       "      <td>1.0</td>\n",
       "      <td>1.0</td>\n",
       "      <td>0.0</td>\n",
       "      <td>0.0</td>\n",
       "    </tr>\n",
       "    <tr>\n",
       "      <th>1</th>\n",
       "      <td>0009655768c64bdeb2e877511632db8f</td>\n",
       "      <td>3f207df678b143eea3cee63160fa8bed</td>\n",
       "      <td>0.0</td>\n",
       "      <td>1.0</td>\n",
       "      <td>1.0</td>\n",
       "      <td>0.0</td>\n",
       "    </tr>\n",
       "    <tr>\n",
       "      <th>2</th>\n",
       "      <td>0009655768c64bdeb2e877511632db8f</td>\n",
       "      <td>5a8bc65990b245e5a138643cd4eb9837</td>\n",
       "      <td>0.0</td>\n",
       "      <td>1.0</td>\n",
       "      <td>1.0</td>\n",
       "      <td>0.0</td>\n",
       "    </tr>\n",
       "    <tr>\n",
       "      <th>3</th>\n",
       "      <td>0009655768c64bdeb2e877511632db8f</td>\n",
       "      <td>f19421c1d4aa40978ebb69ca19b0e20d</td>\n",
       "      <td>1.0</td>\n",
       "      <td>1.0</td>\n",
       "      <td>1.0</td>\n",
       "      <td>1.0</td>\n",
       "    </tr>\n",
       "    <tr>\n",
       "      <th>4</th>\n",
       "      <td>0009655768c64bdeb2e877511632db8f</td>\n",
       "      <td>fafdcd668e3743c1bb461111dcafc2a4</td>\n",
       "      <td>1.0</td>\n",
       "      <td>1.0</td>\n",
       "      <td>1.0</td>\n",
       "      <td>1.0</td>\n",
       "    </tr>\n",
       "  </tbody>\n",
       "</table>\n",
       "</div>"
      ],
      "text/plain": [
       "event                           user_id                          offer_id  \\\n",
       "0      0009655768c64bdeb2e877511632db8f  2906b810c7d4411798c6938adc9daaa5   \n",
       "1      0009655768c64bdeb2e877511632db8f  3f207df678b143eea3cee63160fa8bed   \n",
       "2      0009655768c64bdeb2e877511632db8f  5a8bc65990b245e5a138643cd4eb9837   \n",
       "3      0009655768c64bdeb2e877511632db8f  f19421c1d4aa40978ebb69ca19b0e20d   \n",
       "4      0009655768c64bdeb2e877511632db8f  fafdcd668e3743c1bb461111dcafc2a4   \n",
       "\n",
       "event  offer completed  offer received  offer viewed  effective_offer  \n",
       "0                  1.0             1.0           0.0              0.0  \n",
       "1                  0.0             1.0           1.0              0.0  \n",
       "2                  0.0             1.0           1.0              0.0  \n",
       "3                  1.0             1.0           1.0              1.0  \n",
       "4                  1.0             1.0           1.0              1.0  "
      ]
     },
     "execution_count": 6,
     "metadata": {},
     "output_type": "execute_result"
    }
   ],
   "source": [
    "# Create new dataframe to view offer success rates\n",
    "df_offer_completion = create_df_offer_completion(df_transcript)\n",
    "df_offer_completion.head(5)\n"
   ]
  },
  {
   "cell_type": "markdown",
   "metadata": {},
   "source": [
    "<h2>Data Exploration</h2>\n",
    "\n",
    "Following the brief overview of the data, we can build of what was noted and further explore the data with an eye towards finding variables that help segment the dataset to help inform model development later on.\n",
    "\n",
    "<h3>Portfolio</h3>\n",
    "<b>Offer Type</b>"
   ]
  },
  {
   "cell_type": "code",
   "execution_count": 7,
   "metadata": {},
   "outputs": [
    {
     "data": {
      "image/png": "[encoded data removed]",
      "text/plain": [
       "<Figure size 1008x504 with 2 Axes>"
      ]
     },
     "metadata": {
      "needs_background": "light"
     },
     "output_type": "display_data"
    }
   ],
   "source": [
    "plt.figure(figsize=[14,7])\n",
    "plt.subplot(1,2,1)\n",
    "sns.countplot(x='offer_type',data=df_portfolio);\n",
    "plt.title(\"Count of Offer by Type\")\n",
    "plt.xlabel(\"Offer Type\")\n",
    "plt.ylabel(\"Count\");\n",
    "plt.subplot(1,2,2)\n",
    "df_portfolio['duration'].plot(kind='hist');\n",
    "plt.title(\"Distribution of Duration\")\n",
    "plt.xlabel(\"Duration\")\n",
    "plt.ylabel(\"Count\");"
   ]
  },
  {
   "cell_type": "markdown",
   "metadata": {},
   "source": [
    "<b>Duration</b>"
   ]
  },
  {
   "cell_type": "code",
   "execution_count": 55,
   "metadata": {},
   "outputs": [
    {
     "data": {
      "image/png": "[encoded data removed]",
      "text/plain": [
       "<matplotlib.figure.Figure at 0x7f5fbb9fa5c0>"
      ]
     },
     "metadata": {
      "needs_background": "light"
     },
     "output_type": "display_data"
    }
   ],
   "source": [
    "df_portfolio['duration'].plot(kind='hist');\n",
    "plt.title(\"Distribution of Duration\")\n",
    "plt.xlabel(\"Duration\")\n",
    "plt.ylabel(\"Count\");"
   ]
  },
  {
   "cell_type": "markdown",
   "metadata": {},
   "source": [
    "<h3>Profile</h3>\n",
    "<b>Gender</b>"
   ]
  },
  {
   "cell_type": "code",
   "execution_count": 56,
   "metadata": {},
   "outputs": [
    {
     "data": {
      "image/png": "[encoded data removed]",
      "text/plain": [
       "<matplotlib.figure.Figure at 0x7f5fbb9f1cf8>"
      ]
     },
     "metadata": {
      "needs_background": "light"
     },
     "output_type": "display_data"
    }
   ],
   "source": [
    "sns.countplot(x='gender',data=df_profile);\n",
    "plt.title(\"Count by Gender\")\n",
    "plt.xlabel(\"Gender\")\n",
    "plt.ylabel(\"Count\");"
   ]
  },
  {
   "cell_type": "markdown",
   "metadata": {},
   "source": [
    "<b>Age</b>\n"
   ]
  },
  {
   "cell_type": "code",
   "execution_count": 36,
   "metadata": {},
   "outputs": [
    {
     "data": {
      "image/png": "[encoded data removed]",
      "text/plain": [
       "<matplotlib.figure.Figure at 0x7f58f21b8780>"
      ]
     },
     "metadata": {
      "needs_background": "light"
     },
     "output_type": "display_data"
    }
   ],
   "source": [
    "#sns.distplot(df_profile['age'],hist=True)\n",
    "#plt.title(\"Distribution of Age\")\n",
    "#plt.xlabel(\"Age\")\n",
    "#plt.ylabel(\"Count\");\n",
    "\n",
    "plt.figure(figsize=[14,7])\n",
    "plt.subplot(1,2,1)\n",
    "sns.countplot(x='gender',data=df_profile);\n",
    "plt.title(\"Count by Gender\")\n",
    "plt.xlabel(\"Gender\")\n",
    "plt.ylabel(\"Count\");\n",
    "plt.subplot(1,2,2)\n",
    "plt.hist(df_profile['age'], 20);\n",
    "plt.title(\"Age Distribution\")\n",
    "plt.xlabel(\"Age\")\n",
    "plt.ylabel(\"Count\");\n"
   ]
  },
  {
   "cell_type": "code",
   "execution_count": 32,
   "metadata": {},
   "outputs": [
    {
     "data": {
      "text/plain": [
       "count     14825.000000\n",
       "mean      65404.991568\n",
       "std       21598.299410\n",
       "min       30000.000000\n",
       "10%       37000.000000\n",
       "20%       45000.000000\n",
       "30%       52000.000000\n",
       "40%       57000.000000\n",
       "50%       64000.000000\n",
       "60%       70000.000000\n",
       "70%       75000.000000\n",
       "80%       85000.000000\n",
       "90%       96000.000000\n",
       "max      120000.000000\n",
       "Name: income, dtype: float64"
      ]
     },
     "execution_count": 32,
     "metadata": {},
     "output_type": "execute_result"
    }
   ],
   "source": [
    "df_profile[df_profile['income'].isna()==False]['income'].describe([.1,.2,.3,.4,.5,.6,.7,.8,.9])"
   ]
  },
  {
   "cell_type": "markdown",
   "metadata": {},
   "source": [
    "Based on research, the age of 118 is the default platform age given when user elects not to provide age related information (DOB)."
   ]
  },
  {
   "cell_type": "markdown",
   "metadata": {},
   "source": [
    "<b>Membership Length (Days)</b>"
   ]
  },
  {
   "cell_type": "code",
   "execution_count": 41,
   "metadata": {},
   "outputs": [
    {
     "data": {
      "image/png": "[encoded data removed]",
      "text/plain": [
       "<matplotlib.figure.Figure at 0x7f58f1fff518>"
      ]
     },
     "metadata": {
      "needs_background": "light"
     },
     "output_type": "display_data"
    }
   ],
   "source": [
    "# create subplots to show overall income distribution and income by gender\n",
    "plt.figure(figsize=[14,7])\n",
    "plt.subplot(1,2,1)\n",
    "plt.hist(df_profile[df_profile['income'].isna()==False]['income'],40);\n",
    "plt.title(\"Income Distribution\")\n",
    "plt.xlabel(\"Income\")\n",
    "plt.ylabel(\"Count\");\n",
    "# Gender related data\n",
    "plt.subplot(1,2,2)\n",
    "sns.barplot(x='gender',y='income', data=df_profile, ci=\"sd\");\n",
    "plt.title(\"Median Income by Gender\")\n",
    "plt.xlabel(\"Gender\")\n",
    "plt.ylabel(\"Income\");\n",
    "\n"
   ]
  },
  {
   "cell_type": "code",
   "execution_count": 59,
   "metadata": {},
   "outputs": [
    {
     "data": {
      "text/html": [
       "<div>\n",
       "<style scoped>\n",
       "    .dataframe tbody tr th:only-of-type {\n",
       "        vertical-align: middle;\n",
       "    }\n",
       "\n",
       "    .dataframe tbody tr th {\n",
       "        vertical-align: top;\n",
       "    }\n",
       "\n",
       "    .dataframe thead th {\n",
       "        text-align: right;\n",
       "    }\n",
       "</style>\n",
       "<table border=\"1\" class=\"dataframe\">\n",
       "  <thead>\n",
       "    <tr style=\"text-align: right;\">\n",
       "      <th></th>\n",
       "      <th>age</th>\n",
       "      <th>became_member_on</th>\n",
       "      <th>gender</th>\n",
       "      <th>user_id</th>\n",
       "      <th>income</th>\n",
       "      <th>age_bin</th>\n",
       "      <th>income_bin</th>\n",
       "      <th>member_length_d</th>\n",
       "      <th>member_length_bin</th>\n",
       "      <th>gender_F</th>\n",
       "      <th>...</th>\n",
       "      <th>age_Q3</th>\n",
       "      <th>age_Q4</th>\n",
       "      <th>income_Q1</th>\n",
       "      <th>income_Q2</th>\n",
       "      <th>income_Q3</th>\n",
       "      <th>income_Q4</th>\n",
       "      <th>member_length_Q1</th>\n",
       "      <th>member_length_Q2</th>\n",
       "      <th>member_length_Q3</th>\n",
       "      <th>member_length_Q4</th>\n",
       "    </tr>\n",
       "  </thead>\n",
       "  <tbody>\n",
       "    <tr>\n",
       "      <th>0</th>\n",
       "      <td>118</td>\n",
       "      <td>2017-02-12</td>\n",
       "      <td>None</td>\n",
       "      <td>68be06ca386d4c31939f3a4f0e3dd783</td>\n",
       "      <td>NaN</td>\n",
       "      <td>NaN</td>\n",
       "      <td>NaN</td>\n",
       "      <td>1824.0</td>\n",
       "      <td>Q3</td>\n",
       "      <td>0</td>\n",
       "      <td>...</td>\n",
       "      <td>0</td>\n",
       "      <td>0</td>\n",
       "      <td>0</td>\n",
       "      <td>0</td>\n",
       "      <td>0</td>\n",
       "      <td>0</td>\n",
       "      <td>0</td>\n",
       "      <td>0</td>\n",
       "      <td>1</td>\n",
       "      <td>0</td>\n",
       "    </tr>\n",
       "    <tr>\n",
       "      <th>1</th>\n",
       "      <td>55</td>\n",
       "      <td>2017-07-15</td>\n",
       "      <td>F</td>\n",
       "      <td>0610b486422d4921ae7d2bf64640c50b</td>\n",
       "      <td>112000.0</td>\n",
       "      <td>Q2</td>\n",
       "      <td>Q4</td>\n",
       "      <td>1671.0</td>\n",
       "      <td>Q3</td>\n",
       "      <td>1</td>\n",
       "      <td>...</td>\n",
       "      <td>0</td>\n",
       "      <td>0</td>\n",
       "      <td>0</td>\n",
       "      <td>0</td>\n",
       "      <td>0</td>\n",
       "      <td>1</td>\n",
       "      <td>0</td>\n",
       "      <td>0</td>\n",
       "      <td>1</td>\n",
       "      <td>0</td>\n",
       "    </tr>\n",
       "    <tr>\n",
       "      <th>2</th>\n",
       "      <td>118</td>\n",
       "      <td>2018-07-12</td>\n",
       "      <td>None</td>\n",
       "      <td>38fe809add3b4fcf9315a9694bb96ff5</td>\n",
       "      <td>NaN</td>\n",
       "      <td>NaN</td>\n",
       "      <td>NaN</td>\n",
       "      <td>1309.0</td>\n",
       "      <td>Q1</td>\n",
       "      <td>0</td>\n",
       "      <td>...</td>\n",
       "      <td>0</td>\n",
       "      <td>0</td>\n",
       "      <td>0</td>\n",
       "      <td>0</td>\n",
       "      <td>0</td>\n",
       "      <td>0</td>\n",
       "      <td>1</td>\n",
       "      <td>0</td>\n",
       "      <td>0</td>\n",
       "      <td>0</td>\n",
       "    </tr>\n",
       "    <tr>\n",
       "      <th>3</th>\n",
       "      <td>75</td>\n",
       "      <td>2017-05-09</td>\n",
       "      <td>F</td>\n",
       "      <td>78afa995795e4d85b5d9ceeca43f5fef</td>\n",
       "      <td>100000.0</td>\n",
       "      <td>Q4</td>\n",
       "      <td>Q4</td>\n",
       "      <td>1738.0</td>\n",
       "      <td>Q3</td>\n",
       "      <td>1</td>\n",
       "      <td>...</td>\n",
       "      <td>0</td>\n",
       "      <td>1</td>\n",
       "      <td>0</td>\n",
       "      <td>0</td>\n",
       "      <td>0</td>\n",
       "      <td>1</td>\n",
       "      <td>0</td>\n",
       "      <td>0</td>\n",
       "      <td>1</td>\n",
       "      <td>0</td>\n",
       "    </tr>\n",
       "    <tr>\n",
       "      <th>4</th>\n",
       "      <td>118</td>\n",
       "      <td>2017-08-04</td>\n",
       "      <td>None</td>\n",
       "      <td>a03223e636434f42ac4c3df47e8bac43</td>\n",
       "      <td>NaN</td>\n",
       "      <td>NaN</td>\n",
       "      <td>NaN</td>\n",
       "      <td>1651.0</td>\n",
       "      <td>Q3</td>\n",
       "      <td>0</td>\n",
       "      <td>...</td>\n",
       "      <td>0</td>\n",
       "      <td>0</td>\n",
       "      <td>0</td>\n",
       "      <td>0</td>\n",
       "      <td>0</td>\n",
       "      <td>0</td>\n",
       "      <td>0</td>\n",
       "      <td>0</td>\n",
       "      <td>1</td>\n",
       "      <td>0</td>\n",
       "    </tr>\n",
       "  </tbody>\n",
       "</table>\n",
       "<p>5 rows × 24 columns</p>\n",
       "</div>"
      ],
      "text/plain": [
       "   age became_member_on gender                           user_id    income  \\\n",
       "0  118       2017-02-12   None  68be06ca386d4c31939f3a4f0e3dd783       NaN   \n",
       "1   55       2017-07-15      F  0610b486422d4921ae7d2bf64640c50b  112000.0   \n",
       "2  118       2018-07-12   None  38fe809add3b4fcf9315a9694bb96ff5       NaN   \n",
       "3   75       2017-05-09      F  78afa995795e4d85b5d9ceeca43f5fef  100000.0   \n",
       "4  118       2017-08-04   None  a03223e636434f42ac4c3df47e8bac43       NaN   \n",
       "\n",
       "  age_bin income_bin  member_length_d member_length_bin  gender_F  \\\n",
       "0     NaN        NaN           1824.0                Q3         0   \n",
       "1      Q2         Q4           1671.0                Q3         1   \n",
       "2     NaN        NaN           1309.0                Q1         0   \n",
       "3      Q4         Q4           1738.0                Q3         1   \n",
       "4     NaN        NaN           1651.0                Q3         0   \n",
       "\n",
       "         ...         age_Q3  age_Q4  income_Q1  income_Q2  income_Q3  \\\n",
       "0        ...              0       0          0          0          0   \n",
       "1        ...              0       0          0          0          0   \n",
       "2        ...              0       0          0          0          0   \n",
       "3        ...              0       1          0          0          0   \n",
       "4        ...              0       0          0          0          0   \n",
       "\n",
       "   income_Q4  member_length_Q1  member_length_Q2  member_length_Q3  \\\n",
       "0          0                 0                 0                 1   \n",
       "1          1                 0                 0                 1   \n",
       "2          0                 1                 0                 0   \n",
       "3          1                 0                 0                 1   \n",
       "4          0                 0                 0                 1   \n",
       "\n",
       "   member_length_Q4  \n",
       "0                 0  \n",
       "1                 0  \n",
       "2                 0  \n",
       "3                 0  \n",
       "4                 0  \n",
       "\n",
       "[5 rows x 24 columns]"
      ]
     },
     "execution_count": 59,
     "metadata": {},
     "output_type": "execute_result"
    }
   ],
   "source": [
    "df_profile.head()"
   ]
  },
  {
   "cell_type": "markdown",
   "metadata": {},
   "source": [
    "<b>Note about 118:</b>\n",
    "\n",
    " Based on research it appears that 118 represents the default value for individuals who choose not to give age related information"
   ]
  },
  {
   "cell_type": "markdown",
   "metadata": {},
   "source": [
    "<b>Income</b>\n",
    "\n",
    "Review distribution of income overall and across other demographic data."
   ]
  },
  {
   "cell_type": "code",
   "execution_count": 13,
   "metadata": {},
   "outputs": [
    {
     "name": "stderr",
     "output_type": "stream",
     "text": [
      "/opt/conda/lib/python3.6/site-packages/seaborn/distributions.py:2619: FutureWarning: `distplot` is a deprecated function and will be removed in a future version. Please adapt your code to use either `displot` (a figure-level function with similar flexibility) or `histplot` (an axes-level function for histograms).\n",
      "  warnings.warn(msg, FutureWarning)\n"
     ]
    },
    {
     "data": {
      "image/png": "[encoded data removed]",
      "text/plain": [
       "<Figure size 432x288 with 1 Axes>"
      ]
     },
     "metadata": {
      "needs_background": "light"
     },
     "output_type": "display_data"
    }
   ],
   "source": [
    "#profile['income'].plot(kind='hist');\n",
    "sns.distplot(df_profile[df_profile['income'].isna() == False]['income'],hist=True)\n",
    "plt.title(\"Distribution of Income\")\n",
    "plt.xlabel(\"Income\")\n",
    "plt.ylabel(\"Count\");"
   ]
  },
  {
   "cell_type": "code",
   "execution_count": 14,
   "metadata": {},
   "outputs": [
    {
     "data": {
      "text/plain": [
       "count     14825.000000\n",
       "mean      65404.991568\n",
       "std       21598.299410\n",
       "min       30000.000000\n",
       "10%       37000.000000\n",
       "20%       45000.000000\n",
       "30%       52000.000000\n",
       "40%       57000.000000\n",
       "50%       64000.000000\n",
       "60%       70000.000000\n",
       "70%       75000.000000\n",
       "80%       85000.000000\n",
       "90%       96000.000000\n",
       "max      120000.000000\n",
       "Name: income, dtype: float64"
      ]
     },
     "execution_count": 14,
     "metadata": {},
     "output_type": "execute_result"
    }
   ],
   "source": [
    "# get income deciles\n",
    "df_profile['income'].describe([.1,.2,.3,.4,.5,.6,.7,.8,.9])"
   ]
  },
  {
   "cell_type": "code",
   "execution_count": null,
   "metadata": {},
   "outputs": [],
   "source": [
    "# Assess income by gender\n",
    "df_profile.groupby('gender')['income'].describe()"
   ]
  },
  {
   "cell_type": "code",
   "execution_count": 62,
   "metadata": {},
   "outputs": [
    {
     "data": {
      "image/png": "[encoded data removed]",
      "text/plain": [
       "<matplotlib.figure.Figure at 0x7f5fbb83a080>"
      ]
     },
     "metadata": {
      "needs_background": "light"
     },
     "output_type": "display_data"
    }
   ],
   "source": [
    "# plot median by gender, and standard deviation of income by gender\n",
    "sns.barplot(x='gender',y='income', data=df_profile, ci=\"sd\");\n",
    "plt.title(\"Median Income by Gender\")\n",
    "plt.xlabel(\"Gender\")\n",
    "plt.ylabel(\"Income\");\n"
   ]
  },
  {
   "cell_type": "markdown",
   "metadata": {},
   "source": [
    "<h3>Transcript</h3>\n",
    "<b>Events</b>"
   ]
  },
  {
   "cell_type": "code",
   "execution_count": 63,
   "metadata": {},
   "outputs": [
    {
     "data": {
      "image/png": "[encoded data removed]",
      "text/plain": [
       "<matplotlib.figure.Figure at 0x7f5fbb859c18>"
      ]
     },
     "metadata": {
      "needs_background": "light"
     },
     "output_type": "display_data"
    }
   ],
   "source": [
    "sns.countplot(x='event',data=df_transcript);\n",
    "plt.title(\"Count by Event\")\n",
    "plt.xlabel(\"Event\")\n",
    "plt.ylabel(\"Count\");"
   ]
  },
  {
   "cell_type": "markdown",
   "metadata": {},
   "source": [
    "<b>Dollar amounts for different events</b>\n",
    "A key metric to analyze the effectinvess of any offer on increasing user engangement is the dollar spend on transactions, while efficiency can be measured relative to the 'reward' offered to result in a transaction. We will first look at overall dollar volume across different events, and then over 'Time'. Eventually, we will join the different dataframes to cut the data across a varient of features."
   ]
  },
  {
   "cell_type": "code",
   "execution_count": 64,
   "metadata": {},
   "outputs": [
    {
     "data": {
      "image/png": "[encoded data removed]",
      "text/plain": [
       "<matplotlib.figure.Figure at 0x7f5fbb871438>"
      ]
     },
     "metadata": {
      "needs_background": "light"
     },
     "output_type": "display_data"
    }
   ],
   "source": [
    "df_transcript.query('event == \"offer completed\" or event == \"transaction\"').groupby('event')[['reward_amount','spend_amount']].sum().plot(kind='bar');"
   ]
  },
  {
   "cell_type": "code",
   "execution_count": 15,
   "metadata": {},
   "outputs": [
    {
     "data": {
      "image/png": "[encoded data removed]",
      "text/plain": [
       "<Figure size 1440x720 with 2 Axes>"
      ]
     },
     "metadata": {
      "needs_background": "light"
     },
     "output_type": "display_data"
    }
   ],
   "source": [
    "plt.figure(figsize=[20,10])\n",
    "plt.subplot(1,2,1)\n",
    "df_transcript.query('event == \"transaction\"').groupby('time')['spend_amount'].sum().plot(kind='line');\n",
    "plt.title(\"Transaction Amount Over Time\")\n",
    "plt.xlabel(\"Time\")\n",
    "plt.ylabel(\"Amount\");\n",
    "plt.subplot(1,2,2)\n",
    "df_transcript.query('event == \"offer completed\"').groupby('time')['reward_amount'].sum().plot(kind='line');\n",
    "plt.title(\"Rewarded Amount Over Time\")\n",
    "plt.xlabel(\"Time\")\n",
    "plt.ylabel(\"Amount\");"
   ]
  },
  {
   "cell_type": "code",
   "execution_count": 8,
   "metadata": {},
   "outputs": [
    {
     "name": "stderr",
     "output_type": "stream",
     "text": [
      "/opt/conda/lib/python3.6/site-packages/seaborn/_core.py:1326: UserWarning: Vertical orientation ignored with only `x` specified.\n",
      "  warnings.warn(single_var_warning.format(\"Vertical\", \"x\"))\n",
      "/opt/conda/lib/python3.6/site-packages/seaborn/_core.py:1326: UserWarning: Vertical orientation ignored with only `x` specified.\n",
      "  warnings.warn(single_var_warning.format(\"Vertical\", \"x\"))\n"
     ]
    },
    {
     "data": {
      "image/png": "[encoded data removed]",
      "text/plain": [
       "<Figure size 1440x720 with 2 Axes>"
      ]
     },
     "metadata": {
      "needs_background": "light"
     },
     "output_type": "display_data"
    }
   ],
   "source": [
    "df_filtered_events = df_transcript.query('event == \"offer completed\" or event == \"transaction\"').copy()#df_transcript[['amount','reward']].describe()\n",
    "df_filtered_events['spend_amount'] = df_filtered_events['spend_amount'].astype(float)\n",
    "\n",
    "\n",
    "plt.figure(figsize=[20,10])\n",
    "plt.subplot(1,2,1)\n",
    "sns.boxplot(x=df_filtered_events.query('event == \"transaction\"')['spend_amount'], orient=\"v\");\n",
    "plt.title(\"Transaction\")\n",
    "plt.xlabel(\"Transaction Amount\")\n",
    "plt.ylabel(\"Amount ($)\");\n",
    "plt.subplot(1,2,2)\n",
    "sns.boxplot(x=df_filtered_events.query('event == \"offer completed\"')['reward_amount'], orient=\"v\");\n",
    "plt.title(\"Offers Completed\")\n",
    "plt.xlabel(\"Reward Amount\")\n",
    "plt.ylabel(\"Amount ($)\");"
   ]
  },
  {
   "cell_type": "code",
   "execution_count": 17,
   "metadata": {},
   "outputs": [
    {
     "data": {
      "text/html": [
       "<div>\n",
       "<style scoped>\n",
       "    .dataframe tbody tr th:only-of-type {\n",
       "        vertical-align: middle;\n",
       "    }\n",
       "\n",
       "    .dataframe tbody tr th {\n",
       "        vertical-align: top;\n",
       "    }\n",
       "\n",
       "    .dataframe thead th {\n",
       "        text-align: right;\n",
       "    }\n",
       "</style>\n",
       "<table border=\"1\" class=\"dataframe\">\n",
       "  <thead>\n",
       "    <tr style=\"text-align: right;\">\n",
       "      <th></th>\n",
       "      <th>reward_amount</th>\n",
       "      <th>spend_amount</th>\n",
       "    </tr>\n",
       "  </thead>\n",
       "  <tbody>\n",
       "    <tr>\n",
       "      <th>count</th>\n",
       "      <td>33579.000000</td>\n",
       "      <td>138953.000000</td>\n",
       "    </tr>\n",
       "    <tr>\n",
       "      <th>mean</th>\n",
       "      <td>4.904137</td>\n",
       "      <td>12.777356</td>\n",
       "    </tr>\n",
       "    <tr>\n",
       "      <th>std</th>\n",
       "      <td>2.886647</td>\n",
       "      <td>30.250529</td>\n",
       "    </tr>\n",
       "    <tr>\n",
       "      <th>min</th>\n",
       "      <td>2.000000</td>\n",
       "      <td>0.050000</td>\n",
       "    </tr>\n",
       "    <tr>\n",
       "      <th>10%</th>\n",
       "      <td>2.000000</td>\n",
       "      <td>1.080000</td>\n",
       "    </tr>\n",
       "    <tr>\n",
       "      <th>20%</th>\n",
       "      <td>2.000000</td>\n",
       "      <td>2.140000</td>\n",
       "    </tr>\n",
       "    <tr>\n",
       "      <th>30%</th>\n",
       "      <td>3.000000</td>\n",
       "      <td>3.520000</td>\n",
       "    </tr>\n",
       "    <tr>\n",
       "      <th>40%</th>\n",
       "      <td>3.000000</td>\n",
       "      <td>5.640000</td>\n",
       "    </tr>\n",
       "    <tr>\n",
       "      <th>50%</th>\n",
       "      <td>5.000000</td>\n",
       "      <td>8.890000</td>\n",
       "    </tr>\n",
       "    <tr>\n",
       "      <th>60%</th>\n",
       "      <td>5.000000</td>\n",
       "      <td>12.510000</td>\n",
       "    </tr>\n",
       "    <tr>\n",
       "      <th>70%</th>\n",
       "      <td>5.000000</td>\n",
       "      <td>16.150000</td>\n",
       "    </tr>\n",
       "    <tr>\n",
       "      <th>80%</th>\n",
       "      <td>10.000000</td>\n",
       "      <td>20.150000</td>\n",
       "    </tr>\n",
       "    <tr>\n",
       "      <th>90%</th>\n",
       "      <td>10.000000</td>\n",
       "      <td>25.490000</td>\n",
       "    </tr>\n",
       "    <tr>\n",
       "      <th>99%</th>\n",
       "      <td>10.000000</td>\n",
       "      <td>40.019600</td>\n",
       "    </tr>\n",
       "    <tr>\n",
       "      <th>max</th>\n",
       "      <td>10.000000</td>\n",
       "      <td>1062.280000</td>\n",
       "    </tr>\n",
       "  </tbody>\n",
       "</table>\n",
       "</div>"
      ],
      "text/plain": [
       "       reward_amount   spend_amount\n",
       "count   33579.000000  138953.000000\n",
       "mean        4.904137      12.777356\n",
       "std         2.886647      30.250529\n",
       "min         2.000000       0.050000\n",
       "10%         2.000000       1.080000\n",
       "20%         2.000000       2.140000\n",
       "30%         3.000000       3.520000\n",
       "40%         3.000000       5.640000\n",
       "50%         5.000000       8.890000\n",
       "60%         5.000000      12.510000\n",
       "70%         5.000000      16.150000\n",
       "80%        10.000000      20.150000\n",
       "90%        10.000000      25.490000\n",
       "99%        10.000000      40.019600\n",
       "max        10.000000    1062.280000"
      ]
     },
     "execution_count": 17,
     "metadata": {},
     "output_type": "execute_result"
    }
   ],
   "source": [
    "# review spending distribution to get cut offs\n",
    "df_filtered_events[['reward_amount','spend_amount']].describe([.1,.2,.3,.4,.5,.6,.7,.8,.9,.99])"
   ]
  },
  {
   "cell_type": "code",
   "execution_count": 18,
   "metadata": {},
   "outputs": [
    {
     "data": {
      "text/plain": [
       "count    16578.000000\n",
       "mean        13.680266\n",
       "std         16.056763\n",
       "min          0.050000\n",
       "10%          2.156542\n",
       "20%          2.852620\n",
       "30%          3.594183\n",
       "40%          6.084400\n",
       "50%         11.996607\n",
       "60%         15.543319\n",
       "70%         18.792417\n",
       "80%         22.119500\n",
       "90%         25.890500\n",
       "99%         69.857833\n",
       "max        451.470000\n",
       "Name: spend_amount, dtype: float64"
      ]
     },
     "execution_count": 18,
     "metadata": {},
     "output_type": "execute_result"
    }
   ],
   "source": [
    "#df_filtered_events.groupby('user_id')['spend_amount'].mean().describe()\n",
    "df_transcript.query('event == \"transaction\"').groupby('user_id')['spend_amount'].mean().describe([.1,.2,.3,.4,.5,.6,.7,.8,.9,.99])"
   ]
  },
  {
   "cell_type": "code",
   "execution_count": 19,
   "metadata": {},
   "outputs": [
    {
     "data": {
      "image/png": "[encoded data removed]",
      "text/plain": [
       "<Figure size 1008x504 with 2 Axes>"
      ]
     },
     "metadata": {
      "needs_background": "light"
     },
     "output_type": "display_data"
    }
   ],
   "source": [
    "plt.figure(figsize=[14,7])\n",
    "# $40 and up repersents top 1% of spenders\n",
    "amount = 40\n",
    "plt.subplot(1,2,1)\n",
    "plt.hist(df_filtered_events[df_filtered_events['event'] == \"transaction\"].query('spend_amount <={0}'.format(amount))['spend_amount'],100);\n",
    "#sns.distplot(df_filtered_events[df_filtered_events['event'] == \"transaction\"].query('spend_amount <={0}'.format(amount))['spend_amount'],hist=True);\n",
    "plt.title(\"Transaction Amount (<= $40)\")\n",
    "plt.xlabel(\"Transaction Amount\")\n",
    "plt.ylabel(\"Relative Frequency\");\n",
    "plt.subplot(1,2,2)\n",
    "plt.hist(df_filtered_events[df_filtered_events['event'] == \"transaction\"].query('spend_amount >{0}'.format(amount))['spend_amount'],100);\n",
    "#sns.distplot(df_filtered_events[df_filtered_events['event'] == \"transaction\"].query('spend_amount > {0}'.format(amount))['spend_amount'],hist=True);\n",
    "plt.title(\"Transaction Amount (> $40)\")\n",
    "plt.xlabel(\"Transaction Amount\")\n",
    "plt.ylabel(\"Relative Frequency\");"
   ]
  },
  {
   "cell_type": "code",
   "execution_count": 16,
   "metadata": {},
   "outputs": [
    {
     "data": {
      "image/png": "[encoded data removed]",
      "text/plain": [
       "<matplotlib.figure.Figure at 0x7f021ec889b0>"
      ]
     },
     "metadata": {
      "needs_background": "light"
     },
     "output_type": "display_data"
    }
   ],
   "source": [
    "plt.figure(figsize=[14,7])\n",
    "plt.subplot(1,2,1)\n",
    "plt.hist(df_filtered_events[df_filtered_events['event'] == \"transaction\"].groupby('user_id')['spend_amount'].mean().to_frame().query('spend_amount < 25')['spend_amount'],100);\n",
    "plt.title(\"Distribution of Avg. User Spend (Less than $25)\")\n",
    "plt.xlabel(\"Avg. User Spend\")\n",
    "plt.ylabel(\"Count\");\n",
    "plt.subplot(1,2,2)\n",
    "plt.hist(df_filtered_events[df_filtered_events['event'] == \"transaction\"].groupby('user_id')['spend_amount'].mean().to_frame().query('spend_amount >= 25')['spend_amount'],100);\n",
    "plt.title(\"Distribution of Avg. User Spend (>= $25)\")\n",
    "plt.xlabel(\"Avg. User Spend\")\n",
    "plt.ylabel(\"Count\");\n",
    "\n",
    "\n",
    "\n",
    "#df_filtered_events.groupby('user_id')['spend_amount'].mean().to_frame().query('spend_amount < 100').describe()"
   ]
  },
  {
   "cell_type": "code",
   "execution_count": 115,
   "metadata": {},
   "outputs": [
    {
     "data": {
      "image/png": "[encoded data removed]",
      "text/plain": [
       "<matplotlib.figure.Figure at 0x7f58f20d5908>"
      ]
     },
     "metadata": {
      "needs_background": "light"
     },
     "output_type": "display_data"
    }
   ],
   "source": [
    "plt.figure(figsize=[14,7])\n",
    "plt.subplot(1,1,1)\n",
    "plt.hist(df_filtered_events.groupby('user_id')['reward_amount'].mean().to_frame().query('reward_amount < 40')['reward_amount'],15);\n",
    "plt.title(\"Distribution of Avg. User Reward\")\n",
    "plt.xlabel(\"Avg. User Reward\")\n",
    "plt.ylabel(\"Count\");\n"
   ]
  },
  {
   "cell_type": "markdown",
   "metadata": {},
   "source": [
    "<h3>Combining Data Sets</h3>\n",
    "After reviewing the different data files independently, we will now merge the different data files to allow for comparision of different data points across different points of view. "
   ]
  },
  {
   "cell_type": "code",
   "execution_count": 9,
   "metadata": {},
   "outputs": [],
   "source": [
    "# join portfolio and transcripts\n",
    "df_full = df_transcript.merge(df_portfolio, how = 'left', on='offer_id') "
   ]
  },
  {
   "cell_type": "code",
   "execution_count": 10,
   "metadata": {},
   "outputs": [],
   "source": [
    "# join transaction data to user data\n",
    "df_full = df_full.merge(df_profile,how ='left', on = 'user_id')"
   ]
  },
  {
   "cell_type": "code",
   "execution_count": 11,
   "metadata": {},
   "outputs": [
    {
     "data": {
      "text/html": [
       "<div>\n",
       "<style scoped>\n",
       "    .dataframe tbody tr th:only-of-type {\n",
       "        vertical-align: middle;\n",
       "    }\n",
       "\n",
       "    .dataframe tbody tr th {\n",
       "        vertical-align: top;\n",
       "    }\n",
       "\n",
       "    .dataframe thead th {\n",
       "        text-align: right;\n",
       "    }\n",
       "</style>\n",
       "<table border=\"1\" class=\"dataframe\">\n",
       "  <thead>\n",
       "    <tr style=\"text-align: right;\">\n",
       "      <th></th>\n",
       "      <th>event</th>\n",
       "      <th>user_id</th>\n",
       "      <th>time</th>\n",
       "      <th>value</th>\n",
       "      <th>reward_amount</th>\n",
       "      <th>spend_amount</th>\n",
       "      <th>offer_id</th>\n",
       "      <th>event_offer completed</th>\n",
       "      <th>event_offer received</th>\n",
       "      <th>event_offer viewed</th>\n",
       "      <th>...</th>\n",
       "      <th>age_Q3</th>\n",
       "      <th>age_Q4</th>\n",
       "      <th>income_Q1</th>\n",
       "      <th>income_Q2</th>\n",
       "      <th>income_Q3</th>\n",
       "      <th>income_Q4</th>\n",
       "      <th>member_length_Q1</th>\n",
       "      <th>member_length_Q2</th>\n",
       "      <th>member_length_Q3</th>\n",
       "      <th>member_length_Q4</th>\n",
       "    </tr>\n",
       "  </thead>\n",
       "  <tbody>\n",
       "    <tr>\n",
       "      <th>193444</th>\n",
       "      <td>transaction</td>\n",
       "      <td>20b3771f1f144a8d95610a19cd65d8d3</td>\n",
       "      <td>474</td>\n",
       "      <td>{'amount': 5.63}</td>\n",
       "      <td>NaN</td>\n",
       "      <td>5.63</td>\n",
       "      <td>None</td>\n",
       "      <td>0</td>\n",
       "      <td>0</td>\n",
       "      <td>0</td>\n",
       "      <td>...</td>\n",
       "      <td>0</td>\n",
       "      <td>1</td>\n",
       "      <td>0</td>\n",
       "      <td>1</td>\n",
       "      <td>0</td>\n",
       "      <td>0</td>\n",
       "      <td>0</td>\n",
       "      <td>1</td>\n",
       "      <td>0</td>\n",
       "      <td>0</td>\n",
       "    </tr>\n",
       "    <tr>\n",
       "      <th>58911</th>\n",
       "      <td>offer received</td>\n",
       "      <td>5b545e1908744a4798c7c4318be843e8</td>\n",
       "      <td>168</td>\n",
       "      <td>{'offer id': '4d5c57ea9a6940dd891ad53e9dbe8da0'}</td>\n",
       "      <td>NaN</td>\n",
       "      <td>NaN</td>\n",
       "      <td>4d5c57ea9a6940dd891ad53e9dbe8da0</td>\n",
       "      <td>0</td>\n",
       "      <td>1</td>\n",
       "      <td>0</td>\n",
       "      <td>...</td>\n",
       "      <td>1</td>\n",
       "      <td>0</td>\n",
       "      <td>0</td>\n",
       "      <td>0</td>\n",
       "      <td>1</td>\n",
       "      <td>0</td>\n",
       "      <td>0</td>\n",
       "      <td>1</td>\n",
       "      <td>0</td>\n",
       "      <td>0</td>\n",
       "    </tr>\n",
       "    <tr>\n",
       "      <th>177146</th>\n",
       "      <td>offer completed</td>\n",
       "      <td>af8874dd6a6548d6ba4e9a53a70825ad</td>\n",
       "      <td>426</td>\n",
       "      <td>{'offer_id': '9b98b8c7a33c4b65b9aebfe6a799e6d9...</td>\n",
       "      <td>5.0</td>\n",
       "      <td>NaN</td>\n",
       "      <td>9b98b8c7a33c4b65b9aebfe6a799e6d9</td>\n",
       "      <td>1</td>\n",
       "      <td>0</td>\n",
       "      <td>0</td>\n",
       "      <td>...</td>\n",
       "      <td>0</td>\n",
       "      <td>1</td>\n",
       "      <td>0</td>\n",
       "      <td>0</td>\n",
       "      <td>0</td>\n",
       "      <td>1</td>\n",
       "      <td>0</td>\n",
       "      <td>0</td>\n",
       "      <td>1</td>\n",
       "      <td>0</td>\n",
       "    </tr>\n",
       "    <tr>\n",
       "      <th>112341</th>\n",
       "      <td>offer received</td>\n",
       "      <td>774d6223fea8418a92c5742a4f55b7a9</td>\n",
       "      <td>336</td>\n",
       "      <td>{'offer id': '0b1e1539f2cc45b7b9fa7c272da2e1d7'}</td>\n",
       "      <td>NaN</td>\n",
       "      <td>NaN</td>\n",
       "      <td>0b1e1539f2cc45b7b9fa7c272da2e1d7</td>\n",
       "      <td>0</td>\n",
       "      <td>1</td>\n",
       "      <td>0</td>\n",
       "      <td>...</td>\n",
       "      <td>0</td>\n",
       "      <td>1</td>\n",
       "      <td>0</td>\n",
       "      <td>0</td>\n",
       "      <td>1</td>\n",
       "      <td>0</td>\n",
       "      <td>0</td>\n",
       "      <td>0</td>\n",
       "      <td>0</td>\n",
       "      <td>1</td>\n",
       "    </tr>\n",
       "    <tr>\n",
       "      <th>3765</th>\n",
       "      <td>offer received</td>\n",
       "      <td>cb8d6a9494a641108a1f7f48045e9218</td>\n",
       "      <td>0</td>\n",
       "      <td>{'offer id': 'fafdcd668e3743c1bb461111dcafc2a4'}</td>\n",
       "      <td>NaN</td>\n",
       "      <td>NaN</td>\n",
       "      <td>fafdcd668e3743c1bb461111dcafc2a4</td>\n",
       "      <td>0</td>\n",
       "      <td>1</td>\n",
       "      <td>0</td>\n",
       "      <td>...</td>\n",
       "      <td>0</td>\n",
       "      <td>0</td>\n",
       "      <td>0</td>\n",
       "      <td>0</td>\n",
       "      <td>0</td>\n",
       "      <td>0</td>\n",
       "      <td>0</td>\n",
       "      <td>1</td>\n",
       "      <td>0</td>\n",
       "      <td>0</td>\n",
       "    </tr>\n",
       "    <tr>\n",
       "      <th>77232</th>\n",
       "      <td>offer viewed</td>\n",
       "      <td>ae47fbe72b274838a2093c3e91bc03dc</td>\n",
       "      <td>192</td>\n",
       "      <td>{'offer id': '4d5c57ea9a6940dd891ad53e9dbe8da0'}</td>\n",
       "      <td>NaN</td>\n",
       "      <td>NaN</td>\n",
       "      <td>4d5c57ea9a6940dd891ad53e9dbe8da0</td>\n",
       "      <td>0</td>\n",
       "      <td>0</td>\n",
       "      <td>1</td>\n",
       "      <td>...</td>\n",
       "      <td>0</td>\n",
       "      <td>0</td>\n",
       "      <td>0</td>\n",
       "      <td>0</td>\n",
       "      <td>0</td>\n",
       "      <td>1</td>\n",
       "      <td>0</td>\n",
       "      <td>0</td>\n",
       "      <td>1</td>\n",
       "      <td>0</td>\n",
       "    </tr>\n",
       "    <tr>\n",
       "      <th>92721</th>\n",
       "      <td>transaction</td>\n",
       "      <td>4bf5c6046fc54b788844c76c8b081daf</td>\n",
       "      <td>240</td>\n",
       "      <td>{'amount': 19.34}</td>\n",
       "      <td>NaN</td>\n",
       "      <td>19.34</td>\n",
       "      <td>None</td>\n",
       "      <td>0</td>\n",
       "      <td>0</td>\n",
       "      <td>0</td>\n",
       "      <td>...</td>\n",
       "      <td>0</td>\n",
       "      <td>0</td>\n",
       "      <td>0</td>\n",
       "      <td>1</td>\n",
       "      <td>0</td>\n",
       "      <td>0</td>\n",
       "      <td>0</td>\n",
       "      <td>0</td>\n",
       "      <td>1</td>\n",
       "      <td>0</td>\n",
       "    </tr>\n",
       "    <tr>\n",
       "      <th>36980</th>\n",
       "      <td>transaction</td>\n",
       "      <td>2d159d2ab57e44bbaec3ba7b31c13f7c</td>\n",
       "      <td>78</td>\n",
       "      <td>{'amount': 0.18}</td>\n",
       "      <td>NaN</td>\n",
       "      <td>0.18</td>\n",
       "      <td>None</td>\n",
       "      <td>0</td>\n",
       "      <td>0</td>\n",
       "      <td>0</td>\n",
       "      <td>...</td>\n",
       "      <td>0</td>\n",
       "      <td>0</td>\n",
       "      <td>0</td>\n",
       "      <td>0</td>\n",
       "      <td>0</td>\n",
       "      <td>0</td>\n",
       "      <td>0</td>\n",
       "      <td>0</td>\n",
       "      <td>0</td>\n",
       "      <td>1</td>\n",
       "    </tr>\n",
       "    <tr>\n",
       "      <th>261074</th>\n",
       "      <td>offer viewed</td>\n",
       "      <td>952f9040dd1c4c64a0a1ee4e42fe23eb</td>\n",
       "      <td>576</td>\n",
       "      <td>{'offer id': '2298d6c36e964ae4a3e7e9706d1fb8c2'}</td>\n",
       "      <td>NaN</td>\n",
       "      <td>NaN</td>\n",
       "      <td>2298d6c36e964ae4a3e7e9706d1fb8c2</td>\n",
       "      <td>0</td>\n",
       "      <td>0</td>\n",
       "      <td>1</td>\n",
       "      <td>...</td>\n",
       "      <td>1</td>\n",
       "      <td>0</td>\n",
       "      <td>0</td>\n",
       "      <td>0</td>\n",
       "      <td>1</td>\n",
       "      <td>0</td>\n",
       "      <td>0</td>\n",
       "      <td>0</td>\n",
       "      <td>0</td>\n",
       "      <td>1</td>\n",
       "    </tr>\n",
       "    <tr>\n",
       "      <th>105524</th>\n",
       "      <td>transaction</td>\n",
       "      <td>ecce51f5f6224fc7a765988372b52277</td>\n",
       "      <td>300</td>\n",
       "      <td>{'amount': 7.36}</td>\n",
       "      <td>NaN</td>\n",
       "      <td>7.36</td>\n",
       "      <td>None</td>\n",
       "      <td>0</td>\n",
       "      <td>0</td>\n",
       "      <td>0</td>\n",
       "      <td>...</td>\n",
       "      <td>0</td>\n",
       "      <td>0</td>\n",
       "      <td>1</td>\n",
       "      <td>0</td>\n",
       "      <td>0</td>\n",
       "      <td>0</td>\n",
       "      <td>0</td>\n",
       "      <td>0</td>\n",
       "      <td>1</td>\n",
       "      <td>0</td>\n",
       "    </tr>\n",
       "  </tbody>\n",
       "</table>\n",
       "<p>10 rows × 47 columns</p>\n",
       "</div>"
      ],
      "text/plain": [
       "                  event                           user_id  time  \\\n",
       "193444      transaction  20b3771f1f144a8d95610a19cd65d8d3   474   \n",
       "58911    offer received  5b545e1908744a4798c7c4318be843e8   168   \n",
       "177146  offer completed  af8874dd6a6548d6ba4e9a53a70825ad   426   \n",
       "112341   offer received  774d6223fea8418a92c5742a4f55b7a9   336   \n",
       "3765     offer received  cb8d6a9494a641108a1f7f48045e9218     0   \n",
       "77232      offer viewed  ae47fbe72b274838a2093c3e91bc03dc   192   \n",
       "92721       transaction  4bf5c6046fc54b788844c76c8b081daf   240   \n",
       "36980       transaction  2d159d2ab57e44bbaec3ba7b31c13f7c    78   \n",
       "261074     offer viewed  952f9040dd1c4c64a0a1ee4e42fe23eb   576   \n",
       "105524      transaction  ecce51f5f6224fc7a765988372b52277   300   \n",
       "\n",
       "                                                    value  reward_amount  \\\n",
       "193444                                   {'amount': 5.63}            NaN   \n",
       "58911    {'offer id': '4d5c57ea9a6940dd891ad53e9dbe8da0'}            NaN   \n",
       "177146  {'offer_id': '9b98b8c7a33c4b65b9aebfe6a799e6d9...            5.0   \n",
       "112341   {'offer id': '0b1e1539f2cc45b7b9fa7c272da2e1d7'}            NaN   \n",
       "3765     {'offer id': 'fafdcd668e3743c1bb461111dcafc2a4'}            NaN   \n",
       "77232    {'offer id': '4d5c57ea9a6940dd891ad53e9dbe8da0'}            NaN   \n",
       "92721                                   {'amount': 19.34}            NaN   \n",
       "36980                                    {'amount': 0.18}            NaN   \n",
       "261074   {'offer id': '2298d6c36e964ae4a3e7e9706d1fb8c2'}            NaN   \n",
       "105524                                   {'amount': 7.36}            NaN   \n",
       "\n",
       "        spend_amount                          offer_id  event_offer completed  \\\n",
       "193444          5.63                              None                      0   \n",
       "58911            NaN  4d5c57ea9a6940dd891ad53e9dbe8da0                      0   \n",
       "177146           NaN  9b98b8c7a33c4b65b9aebfe6a799e6d9                      1   \n",
       "112341           NaN  0b1e1539f2cc45b7b9fa7c272da2e1d7                      0   \n",
       "3765             NaN  fafdcd668e3743c1bb461111dcafc2a4                      0   \n",
       "77232            NaN  4d5c57ea9a6940dd891ad53e9dbe8da0                      0   \n",
       "92721          19.34                              None                      0   \n",
       "36980           0.18                              None                      0   \n",
       "261074           NaN  2298d6c36e964ae4a3e7e9706d1fb8c2                      0   \n",
       "105524          7.36                              None                      0   \n",
       "\n",
       "        event_offer received  event_offer viewed        ...         age_Q3  \\\n",
       "193444                     0                   0        ...              0   \n",
       "58911                      1                   0        ...              1   \n",
       "177146                     0                   0        ...              0   \n",
       "112341                     1                   0        ...              0   \n",
       "3765                       1                   0        ...              0   \n",
       "77232                      0                   1        ...              0   \n",
       "92721                      0                   0        ...              0   \n",
       "36980                      0                   0        ...              0   \n",
       "261074                     0                   1        ...              1   \n",
       "105524                     0                   0        ...              0   \n",
       "\n",
       "        age_Q4  income_Q1 income_Q2  income_Q3  income_Q4  member_length_Q1  \\\n",
       "193444       1          0         1          0          0                 0   \n",
       "58911        0          0         0          1          0                 0   \n",
       "177146       1          0         0          0          1                 0   \n",
       "112341       1          0         0          1          0                 0   \n",
       "3765         0          0         0          0          0                 0   \n",
       "77232        0          0         0          0          1                 0   \n",
       "92721        0          0         1          0          0                 0   \n",
       "36980        0          0         0          0          0                 0   \n",
       "261074       0          0         0          1          0                 0   \n",
       "105524       0          1         0          0          0                 0   \n",
       "\n",
       "        member_length_Q2  member_length_Q3  member_length_Q4  \n",
       "193444                 1                 0                 0  \n",
       "58911                  1                 0                 0  \n",
       "177146                 0                 1                 0  \n",
       "112341                 0                 0                 1  \n",
       "3765                   1                 0                 0  \n",
       "77232                  0                 1                 0  \n",
       "92721                  0                 1                 0  \n",
       "36980                  0                 0                 1  \n",
       "261074                 0                 0                 1  \n",
       "105524                 0                 1                 0  \n",
       "\n",
       "[10 rows x 47 columns]"
      ]
     },
     "execution_count": 11,
     "metadata": {},
     "output_type": "execute_result"
    }
   ],
   "source": [
    "# sample 10 records for review\n",
    "df_full.sample(10)"
   ]
  },
  {
   "cell_type": "code",
   "execution_count": 10,
   "metadata": {},
   "outputs": [
    {
     "name": "stdout",
     "output_type": "stream",
     "text": [
      "<class 'pandas.core.frame.DataFrame'>\n",
      "Int64Index: 306534 entries, 0 to 306533\n",
      "Data columns (total 47 columns):\n",
      "event                       306534 non-null object\n",
      "user_id                     306534 non-null object\n",
      "time                        306534 non-null int64\n",
      "value                       306534 non-null object\n",
      "reward_amount               33579 non-null float64\n",
      "spend_amount                138953 non-null float64\n",
      "offer_id                    167581 non-null object\n",
      "event_offer completed       306534 non-null uint8\n",
      "event_offer received        306534 non-null uint8\n",
      "event_offer viewed          306534 non-null uint8\n",
      "event_transaction           306534 non-null uint8\n",
      "difficulty                  167581 non-null float64\n",
      "duration                    167581 non-null float64\n",
      "offer_type                  167581 non-null object\n",
      "reward                      167581 non-null float64\n",
      "email                       167581 non-null float64\n",
      "mobile                      167581 non-null float64\n",
      "social                      167581 non-null float64\n",
      "web                         167581 non-null float64\n",
      "offer_type_bogo             167581 non-null float64\n",
      "offer_type_discount         167581 non-null float64\n",
      "offer_type_informational    167581 non-null float64\n",
      "payoff                      141515 non-null float64\n",
      "payoff_ease                 141515 non-null float64\n",
      "age                         306534 non-null int64\n",
      "became_member_on            306534 non-null datetime64[ns]\n",
      "gender                      272762 non-null object\n",
      "income                      272762 non-null float64\n",
      "age_bin                     271395 non-null category\n",
      "income_bin                  271110 non-null category\n",
      "member_length_d             306534 non-null float64\n",
      "member_length_bin           305965 non-null category\n",
      "gender_F                    306534 non-null uint8\n",
      "gender_M                    306534 non-null uint8\n",
      "gender_O                    306534 non-null uint8\n",
      "age_Q1                      306534 non-null uint8\n",
      "age_Q2                      306534 non-null uint8\n",
      "age_Q3                      306534 non-null uint8\n",
      "age_Q4                      306534 non-null uint8\n",
      "income_Q1                   306534 non-null uint8\n",
      "income_Q2                   306534 non-null uint8\n",
      "income_Q3                   306534 non-null uint8\n",
      "income_Q4                   306534 non-null uint8\n",
      "member_length_Q1            306534 non-null uint8\n",
      "member_length_Q2            306534 non-null uint8\n",
      "member_length_Q3            306534 non-null uint8\n",
      "member_length_Q4            306534 non-null uint8\n",
      "dtypes: category(3), datetime64[ns](1), float64(16), int64(2), object(6), uint8(19)\n",
      "memory usage: 67.2+ MB\n"
     ]
    }
   ],
   "source": [
    "# sample 10 records for review\n",
    "df_full.info(10)"
   ]
  },
  {
   "cell_type": "code",
   "execution_count": 24,
   "metadata": {},
   "outputs": [
    {
     "data": {
      "text/html": [
       "<div>\n",
       "<style scoped>\n",
       "    .dataframe tbody tr th:only-of-type {\n",
       "        vertical-align: middle;\n",
       "    }\n",
       "\n",
       "    .dataframe tbody tr th {\n",
       "        vertical-align: top;\n",
       "    }\n",
       "\n",
       "    .dataframe thead th {\n",
       "        text-align: right;\n",
       "    }\n",
       "</style>\n",
       "<table border=\"1\" class=\"dataframe\">\n",
       "  <thead>\n",
       "    <tr style=\"text-align: right;\">\n",
       "      <th></th>\n",
       "      <th>event</th>\n",
       "      <th>user_id</th>\n",
       "      <th>time</th>\n",
       "      <th>value</th>\n",
       "      <th>reward_amount</th>\n",
       "      <th>spend_amount</th>\n",
       "      <th>offer_id</th>\n",
       "      <th>event_offer completed</th>\n",
       "      <th>event_offer received</th>\n",
       "      <th>event_offer viewed</th>\n",
       "      <th>...</th>\n",
       "      <th>age_Q3</th>\n",
       "      <th>age_Q4</th>\n",
       "      <th>income_Q1</th>\n",
       "      <th>income_Q2</th>\n",
       "      <th>income_Q3</th>\n",
       "      <th>income_Q4</th>\n",
       "      <th>member_length_Q1</th>\n",
       "      <th>member_length_Q2</th>\n",
       "      <th>member_length_Q3</th>\n",
       "      <th>member_length_Q4</th>\n",
       "    </tr>\n",
       "  </thead>\n",
       "  <tbody>\n",
       "    <tr>\n",
       "      <th>278571</th>\n",
       "      <td>offer completed</td>\n",
       "      <td>0d4bc2b53dcf4489bffe55c3a32adf1f</td>\n",
       "      <td>612</td>\n",
       "      <td>{'offer_id': 'fafdcd668e3743c1bb461111dcafc2a4...</td>\n",
       "      <td>2.0</td>\n",
       "      <td>NaN</td>\n",
       "      <td>fafdcd668e3743c1bb461111dcafc2a4</td>\n",
       "      <td>1</td>\n",
       "      <td>0</td>\n",
       "      <td>0</td>\n",
       "      <td>...</td>\n",
       "      <td>0</td>\n",
       "      <td>0</td>\n",
       "      <td>0</td>\n",
       "      <td>0</td>\n",
       "      <td>0</td>\n",
       "      <td>0</td>\n",
       "      <td>0</td>\n",
       "      <td>0</td>\n",
       "      <td>0</td>\n",
       "      <td>1</td>\n",
       "    </tr>\n",
       "    <tr>\n",
       "      <th>187389</th>\n",
       "      <td>transaction</td>\n",
       "      <td>c2c2220c07a348229331b65e356e6602</td>\n",
       "      <td>456</td>\n",
       "      <td>{'amount': 8.98}</td>\n",
       "      <td>NaN</td>\n",
       "      <td>8.98</td>\n",
       "      <td>None</td>\n",
       "      <td>0</td>\n",
       "      <td>0</td>\n",
       "      <td>0</td>\n",
       "      <td>...</td>\n",
       "      <td>0</td>\n",
       "      <td>0</td>\n",
       "      <td>0</td>\n",
       "      <td>0</td>\n",
       "      <td>1</td>\n",
       "      <td>0</td>\n",
       "      <td>1</td>\n",
       "      <td>0</td>\n",
       "      <td>0</td>\n",
       "      <td>0</td>\n",
       "    </tr>\n",
       "    <tr>\n",
       "      <th>140191</th>\n",
       "      <td>transaction</td>\n",
       "      <td>ff80a43ecb34439491bd9ae1cff7c5fc</td>\n",
       "      <td>372</td>\n",
       "      <td>{'amount': 1.92}</td>\n",
       "      <td>NaN</td>\n",
       "      <td>1.92</td>\n",
       "      <td>None</td>\n",
       "      <td>0</td>\n",
       "      <td>0</td>\n",
       "      <td>0</td>\n",
       "      <td>...</td>\n",
       "      <td>0</td>\n",
       "      <td>0</td>\n",
       "      <td>0</td>\n",
       "      <td>1</td>\n",
       "      <td>0</td>\n",
       "      <td>0</td>\n",
       "      <td>0</td>\n",
       "      <td>0</td>\n",
       "      <td>0</td>\n",
       "      <td>1</td>\n",
       "    </tr>\n",
       "    <tr>\n",
       "      <th>35430</th>\n",
       "      <td>transaction</td>\n",
       "      <td>3f1b4a673fe648248e2f14e1256aff2e</td>\n",
       "      <td>66</td>\n",
       "      <td>{'amount': 26.02}</td>\n",
       "      <td>NaN</td>\n",
       "      <td>26.02</td>\n",
       "      <td>None</td>\n",
       "      <td>0</td>\n",
       "      <td>0</td>\n",
       "      <td>0</td>\n",
       "      <td>...</td>\n",
       "      <td>0</td>\n",
       "      <td>0</td>\n",
       "      <td>0</td>\n",
       "      <td>0</td>\n",
       "      <td>0</td>\n",
       "      <td>1</td>\n",
       "      <td>0</td>\n",
       "      <td>0</td>\n",
       "      <td>1</td>\n",
       "      <td>0</td>\n",
       "    </tr>\n",
       "    <tr>\n",
       "      <th>71478</th>\n",
       "      <td>offer completed</td>\n",
       "      <td>2a4d94828f484c368909d5c799123758</td>\n",
       "      <td>174</td>\n",
       "      <td>{'offer_id': '2298d6c36e964ae4a3e7e9706d1fb8c2...</td>\n",
       "      <td>3.0</td>\n",
       "      <td>NaN</td>\n",
       "      <td>2298d6c36e964ae4a3e7e9706d1fb8c2</td>\n",
       "      <td>1</td>\n",
       "      <td>0</td>\n",
       "      <td>0</td>\n",
       "      <td>...</td>\n",
       "      <td>0</td>\n",
       "      <td>0</td>\n",
       "      <td>0</td>\n",
       "      <td>1</td>\n",
       "      <td>0</td>\n",
       "      <td>0</td>\n",
       "      <td>0</td>\n",
       "      <td>0</td>\n",
       "      <td>1</td>\n",
       "      <td>0</td>\n",
       "    </tr>\n",
       "    <tr>\n",
       "      <th>202564</th>\n",
       "      <td>offer received</td>\n",
       "      <td>e0af91a9e5b041f59c6ff8f6df50bcd7</td>\n",
       "      <td>504</td>\n",
       "      <td>{'offer id': 'fafdcd668e3743c1bb461111dcafc2a4'}</td>\n",
       "      <td>NaN</td>\n",
       "      <td>NaN</td>\n",
       "      <td>fafdcd668e3743c1bb461111dcafc2a4</td>\n",
       "      <td>0</td>\n",
       "      <td>1</td>\n",
       "      <td>0</td>\n",
       "      <td>...</td>\n",
       "      <td>1</td>\n",
       "      <td>0</td>\n",
       "      <td>0</td>\n",
       "      <td>0</td>\n",
       "      <td>1</td>\n",
       "      <td>0</td>\n",
       "      <td>0</td>\n",
       "      <td>0</td>\n",
       "      <td>1</td>\n",
       "      <td>0</td>\n",
       "    </tr>\n",
       "    <tr>\n",
       "      <th>11254</th>\n",
       "      <td>offer received</td>\n",
       "      <td>6d6c0aa032064438b97ab5dc28fd1b61</td>\n",
       "      <td>0</td>\n",
       "      <td>{'offer id': '9b98b8c7a33c4b65b9aebfe6a799e6d9'}</td>\n",
       "      <td>NaN</td>\n",
       "      <td>NaN</td>\n",
       "      <td>9b98b8c7a33c4b65b9aebfe6a799e6d9</td>\n",
       "      <td>0</td>\n",
       "      <td>1</td>\n",
       "      <td>0</td>\n",
       "      <td>...</td>\n",
       "      <td>0</td>\n",
       "      <td>0</td>\n",
       "      <td>0</td>\n",
       "      <td>0</td>\n",
       "      <td>1</td>\n",
       "      <td>0</td>\n",
       "      <td>0</td>\n",
       "      <td>1</td>\n",
       "      <td>0</td>\n",
       "      <td>0</td>\n",
       "    </tr>\n",
       "    <tr>\n",
       "      <th>58677</th>\n",
       "      <td>offer received</td>\n",
       "      <td>c1b48c3da509479ba0df92dd90803fdb</td>\n",
       "      <td>168</td>\n",
       "      <td>{'offer id': 'f19421c1d4aa40978ebb69ca19b0e20d'}</td>\n",
       "      <td>NaN</td>\n",
       "      <td>NaN</td>\n",
       "      <td>f19421c1d4aa40978ebb69ca19b0e20d</td>\n",
       "      <td>0</td>\n",
       "      <td>1</td>\n",
       "      <td>0</td>\n",
       "      <td>...</td>\n",
       "      <td>0</td>\n",
       "      <td>0</td>\n",
       "      <td>0</td>\n",
       "      <td>1</td>\n",
       "      <td>0</td>\n",
       "      <td>0</td>\n",
       "      <td>0</td>\n",
       "      <td>0</td>\n",
       "      <td>1</td>\n",
       "      <td>0</td>\n",
       "    </tr>\n",
       "    <tr>\n",
       "      <th>149394</th>\n",
       "      <td>transaction</td>\n",
       "      <td>43417e1318e84492888dc8a6aa6cc48d</td>\n",
       "      <td>402</td>\n",
       "      <td>{'amount': 13.91}</td>\n",
       "      <td>NaN</td>\n",
       "      <td>13.91</td>\n",
       "      <td>None</td>\n",
       "      <td>0</td>\n",
       "      <td>0</td>\n",
       "      <td>0</td>\n",
       "      <td>...</td>\n",
       "      <td>0</td>\n",
       "      <td>0</td>\n",
       "      <td>0</td>\n",
       "      <td>1</td>\n",
       "      <td>0</td>\n",
       "      <td>0</td>\n",
       "      <td>0</td>\n",
       "      <td>0</td>\n",
       "      <td>1</td>\n",
       "      <td>0</td>\n",
       "    </tr>\n",
       "    <tr>\n",
       "      <th>302767</th>\n",
       "      <td>transaction</td>\n",
       "      <td>3526938fb466470190a504a751ec07b0</td>\n",
       "      <td>696</td>\n",
       "      <td>{'amount': 22.2}</td>\n",
       "      <td>NaN</td>\n",
       "      <td>22.20</td>\n",
       "      <td>None</td>\n",
       "      <td>0</td>\n",
       "      <td>0</td>\n",
       "      <td>0</td>\n",
       "      <td>...</td>\n",
       "      <td>1</td>\n",
       "      <td>0</td>\n",
       "      <td>0</td>\n",
       "      <td>0</td>\n",
       "      <td>0</td>\n",
       "      <td>1</td>\n",
       "      <td>0</td>\n",
       "      <td>0</td>\n",
       "      <td>0</td>\n",
       "      <td>1</td>\n",
       "    </tr>\n",
       "  </tbody>\n",
       "</table>\n",
       "<p>10 rows × 47 columns</p>\n",
       "</div>"
      ],
      "text/plain": [
       "                  event                           user_id  time  \\\n",
       "278571  offer completed  0d4bc2b53dcf4489bffe55c3a32adf1f   612   \n",
       "187389      transaction  c2c2220c07a348229331b65e356e6602   456   \n",
       "140191      transaction  ff80a43ecb34439491bd9ae1cff7c5fc   372   \n",
       "35430       transaction  3f1b4a673fe648248e2f14e1256aff2e    66   \n",
       "71478   offer completed  2a4d94828f484c368909d5c799123758   174   \n",
       "202564   offer received  e0af91a9e5b041f59c6ff8f6df50bcd7   504   \n",
       "11254    offer received  6d6c0aa032064438b97ab5dc28fd1b61     0   \n",
       "58677    offer received  c1b48c3da509479ba0df92dd90803fdb   168   \n",
       "149394      transaction  43417e1318e84492888dc8a6aa6cc48d   402   \n",
       "302767      transaction  3526938fb466470190a504a751ec07b0   696   \n",
       "\n",
       "                                                    value  reward_amount  \\\n",
       "278571  {'offer_id': 'fafdcd668e3743c1bb461111dcafc2a4...            2.0   \n",
       "187389                                   {'amount': 8.98}            NaN   \n",
       "140191                                   {'amount': 1.92}            NaN   \n",
       "35430                                   {'amount': 26.02}            NaN   \n",
       "71478   {'offer_id': '2298d6c36e964ae4a3e7e9706d1fb8c2...            3.0   \n",
       "202564   {'offer id': 'fafdcd668e3743c1bb461111dcafc2a4'}            NaN   \n",
       "11254    {'offer id': '9b98b8c7a33c4b65b9aebfe6a799e6d9'}            NaN   \n",
       "58677    {'offer id': 'f19421c1d4aa40978ebb69ca19b0e20d'}            NaN   \n",
       "149394                                  {'amount': 13.91}            NaN   \n",
       "302767                                   {'amount': 22.2}            NaN   \n",
       "\n",
       "        spend_amount                          offer_id  event_offer completed  \\\n",
       "278571           NaN  fafdcd668e3743c1bb461111dcafc2a4                      1   \n",
       "187389          8.98                              None                      0   \n",
       "140191          1.92                              None                      0   \n",
       "35430          26.02                              None                      0   \n",
       "71478            NaN  2298d6c36e964ae4a3e7e9706d1fb8c2                      1   \n",
       "202564           NaN  fafdcd668e3743c1bb461111dcafc2a4                      0   \n",
       "11254            NaN  9b98b8c7a33c4b65b9aebfe6a799e6d9                      0   \n",
       "58677            NaN  f19421c1d4aa40978ebb69ca19b0e20d                      0   \n",
       "149394         13.91                              None                      0   \n",
       "302767         22.20                              None                      0   \n",
       "\n",
       "        event_offer received  event_offer viewed        ...         age_Q3  \\\n",
       "278571                     0                   0        ...              0   \n",
       "187389                     0                   0        ...              0   \n",
       "140191                     0                   0        ...              0   \n",
       "35430                      0                   0        ...              0   \n",
       "71478                      0                   0        ...              0   \n",
       "202564                     1                   0        ...              1   \n",
       "11254                      1                   0        ...              0   \n",
       "58677                      1                   0        ...              0   \n",
       "149394                     0                   0        ...              0   \n",
       "302767                     0                   0        ...              1   \n",
       "\n",
       "        age_Q4  income_Q1 income_Q2  income_Q3  income_Q4  member_length_Q1  \\\n",
       "278571       0          0         0          0          0                 0   \n",
       "187389       0          0         0          1          0                 1   \n",
       "140191       0          0         1          0          0                 0   \n",
       "35430        0          0         0          0          1                 0   \n",
       "71478        0          0         1          0          0                 0   \n",
       "202564       0          0         0          1          0                 0   \n",
       "11254        0          0         0          1          0                 0   \n",
       "58677        0          0         1          0          0                 0   \n",
       "149394       0          0         1          0          0                 0   \n",
       "302767       0          0         0          0          1                 0   \n",
       "\n",
       "        member_length_Q2  member_length_Q3  member_length_Q4  \n",
       "278571                 0                 0                 1  \n",
       "187389                 0                 0                 0  \n",
       "140191                 0                 0                 1  \n",
       "35430                  0                 1                 0  \n",
       "71478                  0                 1                 0  \n",
       "202564                 0                 1                 0  \n",
       "11254                  1                 0                 0  \n",
       "58677                  0                 1                 0  \n",
       "149394                 0                 1                 0  \n",
       "302767                 0                 0                 1  \n",
       "\n",
       "[10 rows x 47 columns]"
      ]
     },
     "execution_count": 24,
     "metadata": {},
     "output_type": "execute_result"
    }
   ],
   "source": [
    "df_full.sample(10)"
   ]
  },
  {
   "cell_type": "code",
   "execution_count": 25,
   "metadata": {},
   "outputs": [
    {
     "data": {
      "image/png": "[encoded data removed]",
      "text/plain": [
       "<Figure size 1008x360 with 3 Axes>"
      ]
     },
     "metadata": {
      "needs_background": "light"
     },
     "output_type": "display_data"
    }
   ],
   "source": [
    "# plot median by gender, and standard deviation of income by gender\n",
    "plt.figure(figsize=[14,5])\n",
    "plt.subplot(1,3,1)\n",
    "sns.barplot(x='income_bin',y='spend_amount', data=df_full);\n",
    "plt.title(\"Median Spend Amount by Income Quartile\")\n",
    "plt.xlabel(\"Income Quartile\")\n",
    "plt.ylabel(\"Spend Amount\");\n",
    "\n",
    "plt.subplot(1,3,2)\n",
    "sns.barplot(x='age_bin',y='spend_amount', data=df_full);\n",
    "plt.title(\"Median Spend Amount by Age Quartile\")\n",
    "plt.xlabel(\"Age Quartile\")\n",
    "plt.ylabel(\"Spend Amount\");\n",
    "\n",
    "plt.subplot(1,3,3)\n",
    "sns.barplot(x='gender',y='spend_amount', data=df_full);\n",
    "plt.title(\"Median Spend Amount by Gender\")\n",
    "plt.xlabel(\"Gender\")\n",
    "plt.ylabel(\"Spend Amount\");"
   ]
  },
  {
   "cell_type": "code",
   "execution_count": 73,
   "metadata": {},
   "outputs": [
    {
     "data": {
      "image/png": "[encoded data removed]",
      "text/plain": [
       "<matplotlib.figure.Figure at 0x7f5fbb6563c8>"
      ]
     },
     "metadata": {
      "needs_background": "light"
     },
     "output_type": "display_data"
    }
   ],
   "source": [
    "sns.barplot(x='age_bin',y='income', data=df_full, ci=\"sd\");\n",
    "plt.title(\"Median Income by Age Quartile\")\n",
    "plt.xlabel(\"Age Quartile\")\n",
    "plt.ylabel(\"Income\");"
   ]
  },
  {
   "cell_type": "code",
   "execution_count": 25,
   "metadata": {},
   "outputs": [
    {
     "data": {
      "image/png": "[encoded data removed]",
      "text/plain": [
       "<matplotlib.figure.Figure at 0x7f021eb760f0>"
      ]
     },
     "metadata": {
      "needs_background": "light"
     },
     "output_type": "display_data"
    }
   ],
   "source": [
    "sns.barplot(x='gender',y='spend_amount', data=df_full);\n",
    "plt.title(\"Median Spend Amount by Gender\")\n",
    "plt.xlabel(\"Gender\")\n",
    "plt.ylabel(\"Spend Amount\");"
   ]
  },
  {
   "cell_type": "code",
   "execution_count": 12,
   "metadata": {},
   "outputs": [
    {
     "data": {
      "text/html": [
       "<div>\n",
       "<style scoped>\n",
       "    .dataframe tbody tr th:only-of-type {\n",
       "        vertical-align: middle;\n",
       "    }\n",
       "\n",
       "    .dataframe tbody tr th {\n",
       "        vertical-align: top;\n",
       "    }\n",
       "\n",
       "    .dataframe thead th {\n",
       "        text-align: right;\n",
       "    }\n",
       "</style>\n",
       "<table border=\"1\" class=\"dataframe\">\n",
       "  <thead>\n",
       "    <tr style=\"text-align: right;\">\n",
       "      <th></th>\n",
       "      <th>user_id</th>\n",
       "      <th>offer_id</th>\n",
       "      <th>offer completed</th>\n",
       "      <th>offer received</th>\n",
       "      <th>offer viewed</th>\n",
       "      <th>effective_offer</th>\n",
       "      <th>age</th>\n",
       "      <th>became_member_on</th>\n",
       "      <th>gender</th>\n",
       "      <th>income</th>\n",
       "      <th>...</th>\n",
       "      <th>reward</th>\n",
       "      <th>email</th>\n",
       "      <th>mobile</th>\n",
       "      <th>social</th>\n",
       "      <th>web</th>\n",
       "      <th>offer_type_bogo</th>\n",
       "      <th>offer_type_discount</th>\n",
       "      <th>offer_type_informational</th>\n",
       "      <th>payoff</th>\n",
       "      <th>payoff_ease</th>\n",
       "    </tr>\n",
       "  </thead>\n",
       "  <tbody>\n",
       "    <tr>\n",
       "      <th>47835</th>\n",
       "      <td>c027b87d4f5c42b1b90551d12343b5ee</td>\n",
       "      <td>9b98b8c7a33c4b65b9aebfe6a799e6d9</td>\n",
       "      <td>1.0</td>\n",
       "      <td>2.0</td>\n",
       "      <td>2.0</td>\n",
       "      <td>1.0</td>\n",
       "      <td>67</td>\n",
       "      <td>2018-05-17</td>\n",
       "      <td>F</td>\n",
       "      <td>92000.0</td>\n",
       "      <td>...</td>\n",
       "      <td>5</td>\n",
       "      <td>1</td>\n",
       "      <td>1</td>\n",
       "      <td>0</td>\n",
       "      <td>1</td>\n",
       "      <td>1</td>\n",
       "      <td>0</td>\n",
       "      <td>0</td>\n",
       "      <td>1.00</td>\n",
       "      <td>7.0</td>\n",
       "    </tr>\n",
       "    <tr>\n",
       "      <th>39492</th>\n",
       "      <td>9e894ff66aba45bbbe75575a03aeb00e</td>\n",
       "      <td>2906b810c7d4411798c6938adc9daaa5</td>\n",
       "      <td>1.0</td>\n",
       "      <td>1.0</td>\n",
       "      <td>0.0</td>\n",
       "      <td>0.0</td>\n",
       "      <td>51</td>\n",
       "      <td>2017-03-13</td>\n",
       "      <td>M</td>\n",
       "      <td>104000.0</td>\n",
       "      <td>...</td>\n",
       "      <td>2</td>\n",
       "      <td>1</td>\n",
       "      <td>1</td>\n",
       "      <td>0</td>\n",
       "      <td>1</td>\n",
       "      <td>0</td>\n",
       "      <td>1</td>\n",
       "      <td>0</td>\n",
       "      <td>0.20</td>\n",
       "      <td>1.4</td>\n",
       "    </tr>\n",
       "    <tr>\n",
       "      <th>3543</th>\n",
       "      <td>0eaa2ea23fff4edaacc67bfad21553e0</td>\n",
       "      <td>f19421c1d4aa40978ebb69ca19b0e20d</td>\n",
       "      <td>0.0</td>\n",
       "      <td>1.0</td>\n",
       "      <td>1.0</td>\n",
       "      <td>0.0</td>\n",
       "      <td>39</td>\n",
       "      <td>2018-03-14</td>\n",
       "      <td>M</td>\n",
       "      <td>34000.0</td>\n",
       "      <td>...</td>\n",
       "      <td>5</td>\n",
       "      <td>1</td>\n",
       "      <td>1</td>\n",
       "      <td>1</td>\n",
       "      <td>1</td>\n",
       "      <td>1</td>\n",
       "      <td>0</td>\n",
       "      <td>0</td>\n",
       "      <td>1.00</td>\n",
       "      <td>5.0</td>\n",
       "    </tr>\n",
       "    <tr>\n",
       "      <th>23201</th>\n",
       "      <td>5e0cac0673884c67b9eec062a30473f3</td>\n",
       "      <td>0b1e1539f2cc45b7b9fa7c272da2e1d7</td>\n",
       "      <td>0.0</td>\n",
       "      <td>1.0</td>\n",
       "      <td>0.0</td>\n",
       "      <td>0.0</td>\n",
       "      <td>39</td>\n",
       "      <td>2017-09-09</td>\n",
       "      <td>F</td>\n",
       "      <td>32000.0</td>\n",
       "      <td>...</td>\n",
       "      <td>5</td>\n",
       "      <td>1</td>\n",
       "      <td>0</td>\n",
       "      <td>0</td>\n",
       "      <td>1</td>\n",
       "      <td>0</td>\n",
       "      <td>1</td>\n",
       "      <td>0</td>\n",
       "      <td>0.25</td>\n",
       "      <td>2.5</td>\n",
       "    </tr>\n",
       "    <tr>\n",
       "      <th>8280</th>\n",
       "      <td>23277625ebb9416582f62f328a6a5a8b</td>\n",
       "      <td>2298d6c36e964ae4a3e7e9706d1fb8c2</td>\n",
       "      <td>1.0</td>\n",
       "      <td>1.0</td>\n",
       "      <td>1.0</td>\n",
       "      <td>1.0</td>\n",
       "      <td>41</td>\n",
       "      <td>2016-06-07</td>\n",
       "      <td>O</td>\n",
       "      <td>63000.0</td>\n",
       "      <td>...</td>\n",
       "      <td>3</td>\n",
       "      <td>1</td>\n",
       "      <td>1</td>\n",
       "      <td>1</td>\n",
       "      <td>1</td>\n",
       "      <td>0</td>\n",
       "      <td>1</td>\n",
       "      <td>0</td>\n",
       "      <td>0.43</td>\n",
       "      <td>3.0</td>\n",
       "    </tr>\n",
       "    <tr>\n",
       "      <th>30173</th>\n",
       "      <td>7a5f837ad609476cb17734d90f2e0ed8</td>\n",
       "      <td>f19421c1d4aa40978ebb69ca19b0e20d</td>\n",
       "      <td>1.0</td>\n",
       "      <td>1.0</td>\n",
       "      <td>1.0</td>\n",
       "      <td>1.0</td>\n",
       "      <td>24</td>\n",
       "      <td>2018-03-21</td>\n",
       "      <td>F</td>\n",
       "      <td>53000.0</td>\n",
       "      <td>...</td>\n",
       "      <td>5</td>\n",
       "      <td>1</td>\n",
       "      <td>1</td>\n",
       "      <td>1</td>\n",
       "      <td>1</td>\n",
       "      <td>1</td>\n",
       "      <td>0</td>\n",
       "      <td>0</td>\n",
       "      <td>1.00</td>\n",
       "      <td>5.0</td>\n",
       "    </tr>\n",
       "    <tr>\n",
       "      <th>58218</th>\n",
       "      <td>eaf6f9c12baa4d92b9b02731ab35c3c5</td>\n",
       "      <td>4d5c57ea9a6940dd891ad53e9dbe8da0</td>\n",
       "      <td>1.0</td>\n",
       "      <td>1.0</td>\n",
       "      <td>1.0</td>\n",
       "      <td>1.0</td>\n",
       "      <td>34</td>\n",
       "      <td>2017-10-03</td>\n",
       "      <td>F</td>\n",
       "      <td>51000.0</td>\n",
       "      <td>...</td>\n",
       "      <td>10</td>\n",
       "      <td>1</td>\n",
       "      <td>1</td>\n",
       "      <td>1</td>\n",
       "      <td>1</td>\n",
       "      <td>1</td>\n",
       "      <td>0</td>\n",
       "      <td>0</td>\n",
       "      <td>1.00</td>\n",
       "      <td>5.0</td>\n",
       "    </tr>\n",
       "    <tr>\n",
       "      <th>28861</th>\n",
       "      <td>7511dba4166d42dfa5c3373e85bc9f2b</td>\n",
       "      <td>2906b810c7d4411798c6938adc9daaa5</td>\n",
       "      <td>1.0</td>\n",
       "      <td>1.0</td>\n",
       "      <td>0.0</td>\n",
       "      <td>0.0</td>\n",
       "      <td>59</td>\n",
       "      <td>2016-12-14</td>\n",
       "      <td>F</td>\n",
       "      <td>49000.0</td>\n",
       "      <td>...</td>\n",
       "      <td>2</td>\n",
       "      <td>1</td>\n",
       "      <td>1</td>\n",
       "      <td>0</td>\n",
       "      <td>1</td>\n",
       "      <td>0</td>\n",
       "      <td>1</td>\n",
       "      <td>0</td>\n",
       "      <td>0.20</td>\n",
       "      <td>1.4</td>\n",
       "    </tr>\n",
       "    <tr>\n",
       "      <th>4063</th>\n",
       "      <td>10c8734cbcc744a1975c581e4382d168</td>\n",
       "      <td>2906b810c7d4411798c6938adc9daaa5</td>\n",
       "      <td>0.0</td>\n",
       "      <td>1.0</td>\n",
       "      <td>0.0</td>\n",
       "      <td>0.0</td>\n",
       "      <td>37</td>\n",
       "      <td>2018-02-26</td>\n",
       "      <td>M</td>\n",
       "      <td>57000.0</td>\n",
       "      <td>...</td>\n",
       "      <td>2</td>\n",
       "      <td>1</td>\n",
       "      <td>1</td>\n",
       "      <td>0</td>\n",
       "      <td>1</td>\n",
       "      <td>0</td>\n",
       "      <td>1</td>\n",
       "      <td>0</td>\n",
       "      <td>0.20</td>\n",
       "      <td>1.4</td>\n",
       "    </tr>\n",
       "    <tr>\n",
       "      <th>36708</th>\n",
       "      <td>93c230e2ff31416c9fc190cd560f8653</td>\n",
       "      <td>4d5c57ea9a6940dd891ad53e9dbe8da0</td>\n",
       "      <td>1.0</td>\n",
       "      <td>1.0</td>\n",
       "      <td>1.0</td>\n",
       "      <td>1.0</td>\n",
       "      <td>45</td>\n",
       "      <td>2016-11-24</td>\n",
       "      <td>F</td>\n",
       "      <td>58000.0</td>\n",
       "      <td>...</td>\n",
       "      <td>10</td>\n",
       "      <td>1</td>\n",
       "      <td>1</td>\n",
       "      <td>1</td>\n",
       "      <td>1</td>\n",
       "      <td>1</td>\n",
       "      <td>0</td>\n",
       "      <td>0</td>\n",
       "      <td>1.00</td>\n",
       "      <td>5.0</td>\n",
       "    </tr>\n",
       "  </tbody>\n",
       "</table>\n",
       "<p>10 rows × 42 columns</p>\n",
       "</div>"
      ],
      "text/plain": [
       "                                user_id                          offer_id  \\\n",
       "47835  c027b87d4f5c42b1b90551d12343b5ee  9b98b8c7a33c4b65b9aebfe6a799e6d9   \n",
       "39492  9e894ff66aba45bbbe75575a03aeb00e  2906b810c7d4411798c6938adc9daaa5   \n",
       "3543   0eaa2ea23fff4edaacc67bfad21553e0  f19421c1d4aa40978ebb69ca19b0e20d   \n",
       "23201  5e0cac0673884c67b9eec062a30473f3  0b1e1539f2cc45b7b9fa7c272da2e1d7   \n",
       "8280   23277625ebb9416582f62f328a6a5a8b  2298d6c36e964ae4a3e7e9706d1fb8c2   \n",
       "30173  7a5f837ad609476cb17734d90f2e0ed8  f19421c1d4aa40978ebb69ca19b0e20d   \n",
       "58218  eaf6f9c12baa4d92b9b02731ab35c3c5  4d5c57ea9a6940dd891ad53e9dbe8da0   \n",
       "28861  7511dba4166d42dfa5c3373e85bc9f2b  2906b810c7d4411798c6938adc9daaa5   \n",
       "4063   10c8734cbcc744a1975c581e4382d168  2906b810c7d4411798c6938adc9daaa5   \n",
       "36708  93c230e2ff31416c9fc190cd560f8653  4d5c57ea9a6940dd891ad53e9dbe8da0   \n",
       "\n",
       "       offer completed  offer received  offer viewed  effective_offer  age  \\\n",
       "47835              1.0             2.0           2.0              1.0   67   \n",
       "39492              1.0             1.0           0.0              0.0   51   \n",
       "3543               0.0             1.0           1.0              0.0   39   \n",
       "23201              0.0             1.0           0.0              0.0   39   \n",
       "8280               1.0             1.0           1.0              1.0   41   \n",
       "30173              1.0             1.0           1.0              1.0   24   \n",
       "58218              1.0             1.0           1.0              1.0   34   \n",
       "28861              1.0             1.0           0.0              0.0   59   \n",
       "4063               0.0             1.0           0.0              0.0   37   \n",
       "36708              1.0             1.0           1.0              1.0   45   \n",
       "\n",
       "      became_member_on gender    income     ...      reward email  mobile  \\\n",
       "47835       2018-05-17      F   92000.0     ...           5     1       1   \n",
       "39492       2017-03-13      M  104000.0     ...           2     1       1   \n",
       "3543        2018-03-14      M   34000.0     ...           5     1       1   \n",
       "23201       2017-09-09      F   32000.0     ...           5     1       0   \n",
       "8280        2016-06-07      O   63000.0     ...           3     1       1   \n",
       "30173       2018-03-21      F   53000.0     ...           5     1       1   \n",
       "58218       2017-10-03      F   51000.0     ...          10     1       1   \n",
       "28861       2016-12-14      F   49000.0     ...           2     1       1   \n",
       "4063        2018-02-26      M   57000.0     ...           2     1       1   \n",
       "36708       2016-11-24      F   58000.0     ...          10     1       1   \n",
       "\n",
       "      social  web  offer_type_bogo  offer_type_discount  \\\n",
       "47835      0    1                1                    0   \n",
       "39492      0    1                0                    1   \n",
       "3543       1    1                1                    0   \n",
       "23201      0    1                0                    1   \n",
       "8280       1    1                0                    1   \n",
       "30173      1    1                1                    0   \n",
       "58218      1    1                1                    0   \n",
       "28861      0    1                0                    1   \n",
       "4063       0    1                0                    1   \n",
       "36708      1    1                1                    0   \n",
       "\n",
       "       offer_type_informational  payoff  payoff_ease  \n",
       "47835                         0    1.00          7.0  \n",
       "39492                         0    0.20          1.4  \n",
       "3543                          0    1.00          5.0  \n",
       "23201                         0    0.25          2.5  \n",
       "8280                          0    0.43          3.0  \n",
       "30173                         0    1.00          5.0  \n",
       "58218                         0    1.00          5.0  \n",
       "28861                         0    0.20          1.4  \n",
       "4063                          0    0.20          1.4  \n",
       "36708                         0    1.00          5.0  \n",
       "\n",
       "[10 rows x 42 columns]"
      ]
     },
     "execution_count": 12,
     "metadata": {},
     "output_type": "execute_result"
    }
   ],
   "source": [
    "# join transaction data and user profile\n",
    "df_offer_user = df_offer_completion.merge(df_profile,how='left', on='user_id')\n",
    "# add offer information\n",
    "df_offer_user = df_offer_user.merge(df_portfolio,how='left',on='offer_id')\n",
    "\n",
    "#df_offer_user['reward_to_difficulty'] = df_offer_user['reward']/df_offer_user['difficulty']\n",
    "\n",
    "# Remove informational since 100% of offers of type 'informational' are unsuccessful\n",
    "df_offer_user = df_offer_user.query('offer_type != \"informational\"')\n",
    "# sample data\n",
    "df_offer_user.sample(10)"
   ]
  },
  {
   "cell_type": "code",
   "execution_count": 13,
   "metadata": {},
   "outputs": [
    {
     "name": "stdout",
     "output_type": "stream",
     "text": [
      "Baseline offer success rate 48.3%. Baseline unsuccessful offer rate 51.7%\n"
     ]
    },
    {
     "data": {
      "image/png": "[encoded data removed]",
      "text/plain": [
       "<Figure size 1008x504 with 1 Axes>"
      ]
     },
     "metadata": {
      "needs_background": "light"
     },
     "output_type": "display_data"
    }
   ],
   "source": [
    "#First get offer success rate baseline\n",
    "plt.figure(figsize=[14,7])\n",
    "df_baseline = df_offer_user.groupby('effective_offer')['offer_id'].count()\n",
    "df_baseline = df_baseline.divide(df_baseline.sum())*100\n",
    "no_success_rate = round(df_baseline[0],2)\n",
    "success_rate = round(df_baseline[1],2)\n",
    "print('Baseline offer success rate ' + success_rate.astype(str) + '%. Baseline unsuccessful offer rate '+ no_success_rate.astype(str) +'%');\n",
    "df_baseline.plot(kind='bar', title ='Baseline % distribution of Success vs Unsuccessful Offer (1 = successful, 0 = unsuccessful)');\n",
    "plt.xlabel(\"Effective Offer (1 - Successful, 0 - Unsuccessful)\")\n",
    "xlocs, xlabs = plt.xticks()\n",
    "for i,v in enumerate([no_success_rate,success_rate]):\n",
    "    plt.text(xlocs[i]-.05,v+0.5, v.astype(str)+'%')\n"
   ]
  },
  {
   "cell_type": "code",
   "execution_count": 28,
   "metadata": {},
   "outputs": [
    {
     "data": {
      "text/html": [
       "<div>\n",
       "<style scoped>\n",
       "    .dataframe tbody tr th:only-of-type {\n",
       "        vertical-align: middle;\n",
       "    }\n",
       "\n",
       "    .dataframe tbody tr th {\n",
       "        vertical-align: top;\n",
       "    }\n",
       "\n",
       "    .dataframe thead th {\n",
       "        text-align: right;\n",
       "    }\n",
       "</style>\n",
       "<table border=\"1\" class=\"dataframe\">\n",
       "  <thead>\n",
       "    <tr style=\"text-align: right;\">\n",
       "      <th>event</th>\n",
       "      <th>user_id</th>\n",
       "      <th>offer_id</th>\n",
       "      <th>offer completed</th>\n",
       "      <th>offer received</th>\n",
       "      <th>offer viewed</th>\n",
       "      <th>effective_offer</th>\n",
       "    </tr>\n",
       "  </thead>\n",
       "  <tbody>\n",
       "    <tr>\n",
       "      <th>0</th>\n",
       "      <td>0009655768c64bdeb2e877511632db8f</td>\n",
       "      <td>2906b810c7d4411798c6938adc9daaa5</td>\n",
       "      <td>1.0</td>\n",
       "      <td>1.0</td>\n",
       "      <td>0.0</td>\n",
       "      <td>0.0</td>\n",
       "    </tr>\n",
       "    <tr>\n",
       "      <th>1</th>\n",
       "      <td>0009655768c64bdeb2e877511632db8f</td>\n",
       "      <td>3f207df678b143eea3cee63160fa8bed</td>\n",
       "      <td>0.0</td>\n",
       "      <td>1.0</td>\n",
       "      <td>1.0</td>\n",
       "      <td>0.0</td>\n",
       "    </tr>\n",
       "    <tr>\n",
       "      <th>2</th>\n",
       "      <td>0009655768c64bdeb2e877511632db8f</td>\n",
       "      <td>5a8bc65990b245e5a138643cd4eb9837</td>\n",
       "      <td>0.0</td>\n",
       "      <td>1.0</td>\n",
       "      <td>1.0</td>\n",
       "      <td>0.0</td>\n",
       "    </tr>\n",
       "    <tr>\n",
       "      <th>3</th>\n",
       "      <td>0009655768c64bdeb2e877511632db8f</td>\n",
       "      <td>f19421c1d4aa40978ebb69ca19b0e20d</td>\n",
       "      <td>1.0</td>\n",
       "      <td>1.0</td>\n",
       "      <td>1.0</td>\n",
       "      <td>1.0</td>\n",
       "    </tr>\n",
       "    <tr>\n",
       "      <th>4</th>\n",
       "      <td>0009655768c64bdeb2e877511632db8f</td>\n",
       "      <td>fafdcd668e3743c1bb461111dcafc2a4</td>\n",
       "      <td>1.0</td>\n",
       "      <td>1.0</td>\n",
       "      <td>1.0</td>\n",
       "      <td>1.0</td>\n",
       "    </tr>\n",
       "  </tbody>\n",
       "</table>\n",
       "</div>"
      ],
      "text/plain": [
       "event                           user_id                          offer_id  \\\n",
       "0      0009655768c64bdeb2e877511632db8f  2906b810c7d4411798c6938adc9daaa5   \n",
       "1      0009655768c64bdeb2e877511632db8f  3f207df678b143eea3cee63160fa8bed   \n",
       "2      0009655768c64bdeb2e877511632db8f  5a8bc65990b245e5a138643cd4eb9837   \n",
       "3      0009655768c64bdeb2e877511632db8f  f19421c1d4aa40978ebb69ca19b0e20d   \n",
       "4      0009655768c64bdeb2e877511632db8f  fafdcd668e3743c1bb461111dcafc2a4   \n",
       "\n",
       "event  offer completed  offer received  offer viewed  effective_offer  \n",
       "0                  1.0             1.0           0.0              0.0  \n",
       "1                  0.0             1.0           1.0              0.0  \n",
       "2                  0.0             1.0           1.0              0.0  \n",
       "3                  1.0             1.0           1.0              1.0  \n",
       "4                  1.0             1.0           1.0              1.0  "
      ]
     },
     "execution_count": 28,
     "metadata": {},
     "output_type": "execute_result"
    }
   ],
   "source": [
    "df_offer_completion.head()"
   ]
  },
  {
   "cell_type": "code",
   "execution_count": 30,
   "metadata": {},
   "outputs": [
    {
     "data": {
      "text/plain": [
       "<Figure size 1008x504 with 0 Axes>"
      ]
     },
     "metadata": {},
     "output_type": "display_data"
    },
    {
     "data": {
      "image/png": "[encoded data removed]",
      "text/plain": [
       "<Figure size 432x288 with 1 Axes>"
      ]
     },
     "metadata": {
      "needs_background": "light"
     },
     "output_type": "display_data"
    }
   ],
   "source": [
    "plt.figure(figsize=[14,7])\n",
    "#First get offer success rate by Gender\n",
    "df_offer_byGender = df_offer_user.groupby(['gender','effective_offer'])['offer_id'].count().unstack()\n",
    "df_offer_byGender = df_offer_byGender.T.div(df_offer_byGender.T.sum()).T*100\n",
    "df_offer_byGender.plot(kind='bar',  title=\"Offer Success by Gender (1= Success, 0 = Unsuccesfull)\");\n",
    "plt.xlabel(\"Gender(1 - Successful, 0 - Unsuccessful)\")\n",
    "xlocs, xlabs = plt.xticks()\n",
    "for i,v in enumerate([df_offer_byGender]):\n",
    "    for j,k in enumerate(df_offer_byGender[i]):\n",
    "        no_success = round(df_offer_byGender[i][j])\n",
    "        success = round(df_offer_byGender[i+1][j])\n",
    "        plt.text(xlocs[j]-.3,no_success+2.5, str(no_success)+'%')\n",
    "        plt.text(xlocs[j],success+2.5,str(success)+'%')\n"
   ]
  },
  {
   "cell_type": "code",
   "execution_count": 70,
   "metadata": {},
   "outputs": [
    {
     "data": {
      "text/plain": [
       "email  web  mobile  social\n",
       "1      0    1       1         0.446031\n",
       "       1    0       0         0.230938\n",
       "            1       0         0.389161\n",
       "                    1         0.603034\n",
       "Name: effective_offer, dtype: float64"
      ]
     },
     "execution_count": 70,
     "metadata": {},
     "output_type": "execute_result"
    }
   ],
   "source": [
    "df_offer_user.groupby(['email','web','mobile','social'])['effective_offer'].mean()"
   ]
  },
  {
   "cell_type": "code",
   "execution_count": 31,
   "metadata": {},
   "outputs": [
    {
     "data": {
      "text/plain": [
       "<Figure size 1008x504 with 0 Axes>"
      ]
     },
     "metadata": {},
     "output_type": "display_data"
    },
    {
     "data": {
      "image/png": "[encoded data removed]",
      "text/plain": [
       "<Figure size 432x288 with 1 Axes>"
      ]
     },
     "metadata": {
      "needs_background": "light"
     },
     "output_type": "display_data"
    }
   ],
   "source": [
    "plt.figure(figsize=[14,7])\n",
    "#Get offer success rate by Income Bins\n",
    "df_offer_byIncome = df_offer_user.groupby(['income_bin','effective_offer'])['offer_id'].count().unstack()\n",
    "df_offer_byIncome = df_offer_byIncome.T.div(df_offer_byIncome.T.sum()).T*100\n",
    "df_offer_byIncome.plot(kind='bar', title=\"Offer Success by Income Quartile (1= Success, 0 = Unsuccesfull)\");\n",
    "plt.xlabel(\"Income Quartiles\")\n",
    "xlocs, xlabs = plt.xticks()\n",
    "for i,v in enumerate([df_offer_byIncome]):\n",
    "    for j,k in enumerate(df_offer_byIncome[i]):\n",
    "        no_success = round(df_offer_byIncome[i][j])\n",
    "        success = round(df_offer_byIncome[i+1][j])\n",
    "        plt.text(xlocs[j]-.3,no_success+2.5, str(no_success)+'%')\n",
    "        plt.text(xlocs[j],success+2.5,str(success)+'%')"
   ]
  },
  {
   "cell_type": "code",
   "execution_count": 32,
   "metadata": {},
   "outputs": [
    {
     "data": {
      "text/plain": [
       "<Figure size 1008x504 with 0 Axes>"
      ]
     },
     "metadata": {},
     "output_type": "display_data"
    },
    {
     "data": {
      "image/png": "[encoded data removed]",
      "text/plain": [
       "<Figure size 432x288 with 1 Axes>"
      ]
     },
     "metadata": {
      "needs_background": "light"
     },
     "output_type": "display_data"
    }
   ],
   "source": [
    "plt.figure(figsize=[14,7])\n",
    "#First get offer success rate by Age\n",
    "df_offer_byAge = df_offer_user.groupby(['age_bin','effective_offer'])['offer_id'].count().unstack()\n",
    "df_offer_byAge = df_offer_byAge.T.div(df_offer_byAge.T.sum()).T*100\n",
    "df_offer_byAge.plot(kind='bar', title=\"Offer Success by Age (1= Success, 0 = Unsuccesfull)\");\n",
    "plt.xlabel(\"Age Quartiles\")\n",
    "xlocs, xlabs = plt.xticks()\n",
    "for i,v in enumerate([df_offer_byAge]):\n",
    "    for j,k in enumerate(df_offer_byAge[i]):\n",
    "        no_success = round(df_offer_byAge[i][j])\n",
    "        success = round(df_offer_byAge[i+1][j])\n",
    "        plt.text(xlocs[j]-.3,no_success+1.5, str(no_success)+'%')\n",
    "        plt.text(xlocs[j],success+0.5,str(success)+'%')"
   ]
  },
  {
   "cell_type": "code",
   "execution_count": 33,
   "metadata": {},
   "outputs": [
    {
     "data": {
      "text/plain": [
       "<Figure size 1008x504 with 0 Axes>"
      ]
     },
     "metadata": {},
     "output_type": "display_data"
    },
    {
     "data": {
      "image/png": "[encoded data removed]",
      "text/plain": [
       "<Figure size 432x288 with 1 Axes>"
      ]
     },
     "metadata": {
      "needs_background": "light"
     },
     "output_type": "display_data"
    }
   ],
   "source": [
    "#First get offer success rate by Offer Type\n",
    "plt.figure(figsize=[14,7])\n",
    "df_offer_byOfferType = df_offer_user.groupby(['offer_type','effective_offer'])['offer_id'].count().unstack()\n",
    "df_offer_byOfferType = df_offer_byOfferType.T.div(df_offer_byOfferType.T.sum()).T*100\n",
    "df_offer_byOfferType.plot(kind='bar', title=\"Offer Success by Offer Type (1= Success, 0 = Unsuccesfull)\");\n",
    "xlocs, xlabs = plt.xticks()\n",
    "plt.xlabel(\"Offer Type\")\n",
    "for i,v in enumerate([df_offer_byOfferType]):\n",
    "    for j,k in enumerate(df_offer_byOfferType[i]):\n",
    "        no_success = round(df_offer_byOfferType[i][j])\n",
    "        success = round(df_offer_byOfferType[i+1][j])\n",
    "        plt.text(xlocs[j]-.2,no_success+.65, str(no_success)+'%')\n",
    "        plt.text(xlocs[j]+.05,success+0.5,str(success)+'%')"
   ]
  },
  {
   "cell_type": "code",
   "execution_count": 34,
   "metadata": {},
   "outputs": [
    {
     "data": {
      "image/png": "[encoded data removed]",
      "text/plain": [
       "<Figure size 432x288 with 1 Axes>"
      ]
     },
     "metadata": {
      "needs_background": "light"
     },
     "output_type": "display_data"
    }
   ],
   "source": [
    "#First get offer success rate by Offer Type and gender\n",
    "df_offer_byOfferType_gender = df_offer_user.groupby(['offer_type','gender','effective_offer'])['offer_id'].count().unstack()\n",
    "df_offer_byOfferType_gender = df_offer_byOfferType_gender.T.div(df_offer_byOfferType_gender.T.sum()).T*100\n",
    "df_offer_byOfferType_gender.plot(kind='bar', stacked=True, title=\"Offer Success by Gender and Offer Type (1= Success, 0 = Unsuccesfull)\");"
   ]
  },
  {
   "cell_type": "code",
   "execution_count": 35,
   "metadata": {},
   "outputs": [
    {
     "data": {
      "image/png": "[encoded data removed]",
      "text/plain": [
       "<Figure size 432x288 with 1 Axes>"
      ]
     },
     "metadata": {
      "needs_background": "light"
     },
     "output_type": "display_data"
    }
   ],
   "source": [
    "#First get offer success rate by platform age\n",
    "df_offer_byPlatformAge = df_offer_user.groupby(['member_length_bin','effective_offer'])['offer_id'].count().unstack()\n",
    "df_offer_byPlatformAge = df_offer_byPlatformAge.T.div(df_offer_byPlatformAge.T.sum()).T*100\n",
    "df_offer_byPlatformAge.plot(kind='bar', title=\"Offer Success by Length of Membership (1= Success, 0 = Unsuccesfull)\");\n",
    "plt.xlabel(\"Membership Length Quartiles\")\n",
    "xlocs, xlabs = plt.xticks()\n",
    "for i,v in enumerate([df_offer_byPlatformAge]):\n",
    "    for j,k in enumerate(df_offer_byPlatformAge[i]):\n",
    "        no_success = round(df_offer_byPlatformAge[i][j])\n",
    "        success = round(df_offer_byPlatformAge[i+1][j])\n",
    "        plt.text(xlocs[j]-.3,no_success+1.5, str(no_success)+'%')\n",
    "        plt.text(xlocs[j],success+0.5,str(success)+'%')"
   ]
  },
  {
   "cell_type": "code",
   "execution_count": 36,
   "metadata": {},
   "outputs": [
    {
     "data": {
      "image/png": "[encoded data removed]",
      "text/plain": [
       "<Figure size 432x288 with 1 Axes>"
      ]
     },
     "metadata": {
      "needs_background": "light"
     },
     "output_type": "display_data"
    }
   ],
   "source": [
    "# get success rate by payoff_ease (Reward*Duration/dificulty)\n",
    "df_offer_bypayoff_ease = df_offer_user.groupby(['payoff_ease','effective_offer'])['offer_id'].count().unstack()\n",
    "df_offer_bypayoff_ease = df_offer_bypayoff_ease.T.div(df_offer_bypayoff_ease.T.sum()).T*100\n",
    "df_offer_bypayoff_ease.plot(kind='bar', title=\"Offer Success by Length of Membership (1= Success, 0 = Unsuccesfull)\");\n",
    "plt.xlabel(\"Payoff Ease\")\n",
    "xlocs, xlabs = plt.xticks()\n",
    "# Reward*Duration/Difficulty"
   ]
  },
  {
   "cell_type": "code",
   "execution_count": 83,
   "metadata": {},
   "outputs": [
    {
     "data": {
      "image/png": "[encoded data removed]",
      "text/plain": [
       "<matplotlib.figure.Figure at 0x7f5fbb61f390>"
      ]
     },
     "metadata": {
      "needs_background": "light"
     },
     "output_type": "display_data"
    }
   ],
   "source": [
    "#First get offer success rate by Reward\n",
    "df_offer_byReward = df_offer_user.groupby(['reward','effective_offer'])['offer_id'].count().unstack()\n",
    "df_offer_byReward = df_offer_byReward.T.div(df_offer_byReward.T.sum()).T*100\n",
    "df_offer_byReward.plot(kind='bar', stacked=True, title=\"Offer Success by Reward Amount (1= Success, 0 = Unsuccesfull)\");"
   ]
  },
  {
   "cell_type": "code",
   "execution_count": 38,
   "metadata": {},
   "outputs": [
    {
     "data": {
      "image/png": "[encoded data removed]",
      "text/plain": [
       "<Figure size 432x288 with 1 Axes>"
      ]
     },
     "metadata": {
      "needs_background": "light"
     },
     "output_type": "display_data"
    }
   ],
   "source": [
    "#First get offer success rate by Difficulty\n",
    "df_offer_bydifficulty = df_offer_user.groupby(['difficulty','effective_offer'])['offer_id'].count().unstack()\n",
    "df_offer_bydifficulty = df_offer_bydifficulty.T.div(df_offer_bydifficulty.T.sum()).T*100\n",
    "df_offer_bydifficulty.plot(kind='bar', title=\"Offer Success by Offer Difficulty (1= Success, 0 = Unsuccesfull)\");\n",
    "plt.xlabel(\"Difficulty\")\n",
    "xlocs, xlabs = plt.xticks()\n",
    "for i,v in enumerate([df_offer_bydifficulty]):\n",
    "    for j,k in enumerate(df_offer_bydifficulty[i]):\n",
    "        no_success = round(list(df_offer_bydifficulty[i])[j])\n",
    "        success = round(list(df_offer_bydifficulty[i+1])[j])\n",
    "        plt.text(xlocs[j]-.3,no_success+1.5, str(no_success)+'%')\n",
    "        plt.text(xlocs[j],success+0.5,str(success)+'%')"
   ]
  },
  {
   "cell_type": "code",
   "execution_count": 85,
   "metadata": {},
   "outputs": [
    {
     "data": {
      "image/png": "[encoded data removed]",
      "text/plain": [
       "<matplotlib.figure.Figure at 0x7f5fbb763358>"
      ]
     },
     "metadata": {
      "needs_background": "light"
     },
     "output_type": "display_data"
    }
   ],
   "source": [
    "#First get offer success rate by Gender and Dificulty\n",
    "df_offer_byDifficultGender = df_offer_user.groupby(['difficulty','gender','effective_offer'])['offer_id'].count().unstack()\n",
    "df_offer_byDifficultGender = df_offer_byDifficultGender.T.div(df_offer_byDifficultGender.T.sum()).T*100\n",
    "df_offer_byDifficultGender.plot(kind='bar', stacked=True, title=\"Offer Success by Offer Difficulty and Gender (1= Success, 0 = Unsuccesfull)\");"
   ]
  },
  {
   "cell_type": "markdown",
   "metadata": {},
   "source": [
    "<h2>Model Development</h2>\n",
    "Based on our data assessment and visualization efforts we have found some usefull feature engineering steps as well as identified some key user demographic variables that may be of interest in modeling the relationship of offer success and users. At a high level the visuals show some potential use of Gender, Income, and age of membership (not age of user) as useful variables to predict how users will react to offers. Additionally, with a baseline offer success rate of 48.3% and  unsuccessful offer rate 51.7% we see that the class distribution is fairly well balanced--almost 50/50, which is a great thing as we do not need to undergo special steps to account for class imbalances!"
   ]
  },
  {
   "cell_type": "code",
   "execution_count": 14,
   "metadata": {},
   "outputs": [
    {
     "data": {
      "text/plain": [
       "(43853, 20)"
      ]
     },
     "execution_count": 14,
     "metadata": {},
     "output_type": "execute_result"
    }
   ],
   "source": [
    "# primary features: gender, income, member_length_d\n",
    "# potential items: reward, difficulty, 'email','mobile','social','web','duration','reward','difficulty','duration'\n",
    "df_modeling = df_offer_user[['effective_offer','gender_F','gender_M','gender_O','income','income_Q1','income_Q2','income_Q3','income_Q4','member_length_d','member_length_Q1','member_length_Q2','member_length_Q3','member_length_Q4','income_bin','member_length_bin','payoff','mobile','social','web']]\n",
    "# remove records with any NaN\n",
    "df_modeling = df_modeling[df_modeling.isnull().any(axis=1)==False]\n",
    "df_modeling.shape"
   ]
  },
  {
   "cell_type": "code",
   "execution_count": 15,
   "metadata": {},
   "outputs": [
    {
     "data": {
      "text/html": [
       "<div>\n",
       "<style scoped>\n",
       "    .dataframe tbody tr th:only-of-type {\n",
       "        vertical-align: middle;\n",
       "    }\n",
       "\n",
       "    .dataframe tbody tr th {\n",
       "        vertical-align: top;\n",
       "    }\n",
       "\n",
       "    .dataframe thead th {\n",
       "        text-align: right;\n",
       "    }\n",
       "</style>\n",
       "<table border=\"1\" class=\"dataframe\">\n",
       "  <thead>\n",
       "    <tr style=\"text-align: right;\">\n",
       "      <th></th>\n",
       "      <th>effective_offer</th>\n",
       "      <th>gender_F</th>\n",
       "      <th>gender_M</th>\n",
       "      <th>gender_O</th>\n",
       "      <th>income</th>\n",
       "      <th>income_Q1</th>\n",
       "      <th>income_Q2</th>\n",
       "      <th>income_Q3</th>\n",
       "      <th>income_Q4</th>\n",
       "      <th>member_length_d</th>\n",
       "      <th>member_length_Q1</th>\n",
       "      <th>member_length_Q2</th>\n",
       "      <th>member_length_Q3</th>\n",
       "      <th>member_length_Q4</th>\n",
       "      <th>income_bin</th>\n",
       "      <th>member_length_bin</th>\n",
       "      <th>payoff</th>\n",
       "      <th>mobile</th>\n",
       "      <th>social</th>\n",
       "      <th>web</th>\n",
       "    </tr>\n",
       "  </thead>\n",
       "  <tbody>\n",
       "    <tr>\n",
       "      <th>24382</th>\n",
       "      <td>0.0</td>\n",
       "      <td>0</td>\n",
       "      <td>1</td>\n",
       "      <td>0</td>\n",
       "      <td>94000.0</td>\n",
       "      <td>0</td>\n",
       "      <td>0</td>\n",
       "      <td>0</td>\n",
       "      <td>1</td>\n",
       "      <td>3108.0</td>\n",
       "      <td>0</td>\n",
       "      <td>0</td>\n",
       "      <td>0</td>\n",
       "      <td>1</td>\n",
       "      <td>Q4</td>\n",
       "      <td>Q4</td>\n",
       "      <td>0.25</td>\n",
       "      <td>0</td>\n",
       "      <td>0</td>\n",
       "      <td>1</td>\n",
       "    </tr>\n",
       "    <tr>\n",
       "      <th>19697</th>\n",
       "      <td>1.0</td>\n",
       "      <td>1</td>\n",
       "      <td>0</td>\n",
       "      <td>0</td>\n",
       "      <td>82000.0</td>\n",
       "      <td>0</td>\n",
       "      <td>0</td>\n",
       "      <td>0</td>\n",
       "      <td>1</td>\n",
       "      <td>2017.0</td>\n",
       "      <td>0</td>\n",
       "      <td>0</td>\n",
       "      <td>1</td>\n",
       "      <td>0</td>\n",
       "      <td>Q4</td>\n",
       "      <td>Q3</td>\n",
       "      <td>0.43</td>\n",
       "      <td>1</td>\n",
       "      <td>1</td>\n",
       "      <td>1</td>\n",
       "    </tr>\n",
       "    <tr>\n",
       "      <th>17411</th>\n",
       "      <td>0.0</td>\n",
       "      <td>0</td>\n",
       "      <td>1</td>\n",
       "      <td>0</td>\n",
       "      <td>33000.0</td>\n",
       "      <td>1</td>\n",
       "      <td>0</td>\n",
       "      <td>0</td>\n",
       "      <td>0</td>\n",
       "      <td>1473.0</td>\n",
       "      <td>1</td>\n",
       "      <td>0</td>\n",
       "      <td>0</td>\n",
       "      <td>0</td>\n",
       "      <td>Q1</td>\n",
       "      <td>Q1</td>\n",
       "      <td>1.00</td>\n",
       "      <td>1</td>\n",
       "      <td>1</td>\n",
       "      <td>1</td>\n",
       "    </tr>\n",
       "    <tr>\n",
       "      <th>39623</th>\n",
       "      <td>1.0</td>\n",
       "      <td>0</td>\n",
       "      <td>1</td>\n",
       "      <td>0</td>\n",
       "      <td>57000.0</td>\n",
       "      <td>0</td>\n",
       "      <td>1</td>\n",
       "      <td>0</td>\n",
       "      <td>0</td>\n",
       "      <td>1818.0</td>\n",
       "      <td>0</td>\n",
       "      <td>0</td>\n",
       "      <td>1</td>\n",
       "      <td>0</td>\n",
       "      <td>Q2</td>\n",
       "      <td>Q3</td>\n",
       "      <td>1.00</td>\n",
       "      <td>1</td>\n",
       "      <td>0</td>\n",
       "      <td>1</td>\n",
       "    </tr>\n",
       "    <tr>\n",
       "      <th>48601</th>\n",
       "      <td>0.0</td>\n",
       "      <td>0</td>\n",
       "      <td>1</td>\n",
       "      <td>0</td>\n",
       "      <td>62000.0</td>\n",
       "      <td>0</td>\n",
       "      <td>1</td>\n",
       "      <td>0</td>\n",
       "      <td>0</td>\n",
       "      <td>1367.0</td>\n",
       "      <td>1</td>\n",
       "      <td>0</td>\n",
       "      <td>0</td>\n",
       "      <td>0</td>\n",
       "      <td>Q2</td>\n",
       "      <td>Q1</td>\n",
       "      <td>0.20</td>\n",
       "      <td>1</td>\n",
       "      <td>0</td>\n",
       "      <td>1</td>\n",
       "    </tr>\n",
       "  </tbody>\n",
       "</table>\n",
       "</div>"
      ],
      "text/plain": [
       "       effective_offer  gender_F  gender_M  gender_O   income  income_Q1  \\\n",
       "24382              0.0         0         1         0  94000.0          0   \n",
       "19697              1.0         1         0         0  82000.0          0   \n",
       "17411              0.0         0         1         0  33000.0          1   \n",
       "39623              1.0         0         1         0  57000.0          0   \n",
       "48601              0.0         0         1         0  62000.0          0   \n",
       "\n",
       "       income_Q2  income_Q3  income_Q4  member_length_d  member_length_Q1  \\\n",
       "24382          0          0          1           3108.0                 0   \n",
       "19697          0          0          1           2017.0                 0   \n",
       "17411          0          0          0           1473.0                 1   \n",
       "39623          1          0          0           1818.0                 0   \n",
       "48601          1          0          0           1367.0                 1   \n",
       "\n",
       "       member_length_Q2  member_length_Q3  member_length_Q4 income_bin  \\\n",
       "24382                 0                 0                 1         Q4   \n",
       "19697                 0                 1                 0         Q4   \n",
       "17411                 0                 0                 0         Q1   \n",
       "39623                 0                 1                 0         Q2   \n",
       "48601                 0                 0                 0         Q2   \n",
       "\n",
       "      member_length_bin  payoff  mobile  social  web  \n",
       "24382                Q4    0.25       0       0    1  \n",
       "19697                Q3    0.43       1       1    1  \n",
       "17411                Q1    1.00       1       1    1  \n",
       "39623                Q3    1.00       1       0    1  \n",
       "48601                Q1    0.20       1       0    1  "
      ]
     },
     "execution_count": 15,
     "metadata": {},
     "output_type": "execute_result"
    }
   ],
   "source": [
    "\n",
    "df_modeling.sample(5)"
   ]
  },
  {
   "cell_type": "code",
   "execution_count": 46,
   "metadata": {},
   "outputs": [],
   "source": [
    "def load_data(df):\n",
    "    # 'income','income_Q1','income_Q2','income_Q3','income_Q4'\n",
    "    # 'member_length_d','member_length_Q1','member_length_Q2','member_length_Q3','member_length_Q4'\n",
    "    X =  df[['gender_F','gender_M','gender_O','income','member_length_d','payoff','mobile','social','web']]\n",
    "    Y = df['effective_offer']\n",
    "    return X,Y\n",
    "\n",
    "def process_data(df):\n",
    "    X, y = load_data(df)\n",
    "    X_train, X_test, y_train, y_test = train_test_split(X, y, test_size = .20)    \n",
    "    # scale features, exclude bin items\n",
    "    scaler = StandardScaler()\n",
    "    # 'income','member_length_d',\n",
    "    X_train=scaler.fit_transform(X_train[['payoff','income','member_length_d']])\n",
    "    X_test = scaler.fit_transform(X_test[['payoff','income','member_length_d']])    \n",
    "    return X_train, X_test, y_train, y_test\n",
    "\n",
    "# taken from an earlier Case Study Project (Grid Search Pipeline)\n",
    "def display_results(y_test, y_pred, modelName):\n",
    "    confusion_mat = confusion_matrix(y_test, y_pred)\n",
    "    mcc = matthews_corrcoef(y_test, y_pred)\n",
    "    score_f1 = f1_score(y_test,y_pred, average=\"weighted\")\n",
    "    accuracy = (y_pred == y_test).mean()\n",
    "    print(\"Results for {0}\".format(modelName))\n",
    "    print(\"Confusion Matrix:\\n\", confusion_mat)\n",
    "    print(\"Accuracy:\", accuracy)\n",
    "    #print(\"MCC: %s\" % mcc)\n",
    "    print(\"F1 Score: %s\" % score_f1)\n",
    "        \n",
    "    "
   ]
  },
  {
   "cell_type": "code",
   "execution_count": 18,
   "metadata": {},
   "outputs": [],
   "source": [
    "# get and process data\n",
    "X_train, X_test, y_train, y_test = process_data(df_modeling)"
   ]
  },
  {
   "cell_type": "code",
   "execution_count": 23,
   "metadata": {},
   "outputs": [
    {
     "name": "stdout",
     "output_type": "stream",
     "text": [
      "Results for Random Forest\n",
      "Confusion Matrix:\n",
      " [[2420 1691]\n",
      " [1651 3009]]\n",
      "Accuracy: 0.618971610990765\n",
      "F1 Score: 0.618854392183833\n"
     ]
    }
   ],
   "source": [
    "# init and train random forest classifier\n",
    "rf = RandomForestClassifier(n_estimators=20,criterion='entropy',random_state=42)\n",
    "rf.fit(X_train,y_train)\n",
    "    \n",
    "# predict with randomforest\n",
    "y_pred_rf = rf.predict(X_test)\n",
    "\n",
    "display_results(y_test, y_pred_rf,\"Random Forest\")"
   ]
  },
  {
   "cell_type": "code",
   "execution_count": 64,
   "metadata": {},
   "outputs": [
    {
     "name": "stdout",
     "output_type": "stream",
     "text": [
      "Fitting 3 folds for each of 4 candidates, totalling 12 fits\n",
      "[CV 1/3] END min_samples_split=4, n_estimators=10;, score=0.639 total time=   0.3s\n",
      "[CV 2/3] END min_samples_split=4, n_estimators=10;, score=0.637 total time=   0.3s\n",
      "[CV 3/3] END min_samples_split=4, n_estimators=10;, score=0.636 total time=   0.5s\n",
      "[CV 1/3] END min_samples_split=4, n_estimators=30;, score=0.646 total time=   0.9s\n",
      "[CV 2/3] END min_samples_split=4, n_estimators=30;, score=0.648 total time=   0.8s\n",
      "[CV 3/3] END min_samples_split=4, n_estimators=30;, score=0.650 total time=   0.9s\n",
      "[CV 1/3] END min_samples_split=6, n_estimators=10;, score=0.645 total time=   0.3s\n",
      "[CV 2/3] END min_samples_split=6, n_estimators=10;, score=0.646 total time=   0.3s\n",
      "[CV 3/3] END min_samples_split=6, n_estimators=10;, score=0.648 total time=   0.3s\n",
      "[CV 1/3] END min_samples_split=6, n_estimators=30;, score=0.656 total time=   0.9s\n",
      "[CV 2/3] END min_samples_split=6, n_estimators=30;, score=0.651 total time=   0.8s\n",
      "[CV 3/3] END min_samples_split=6, n_estimators=30;, score=0.654 total time=   0.8s\n",
      "Results for Random Forest GridSearch\n",
      "Confusion Matrix:\n",
      " [[2474 1637]\n",
      " [1502 3158]]\n",
      "Accuracy: 0.6421160643028161\n",
      "F1 Score: 0.6416838659587205\n"
     ]
    }
   ],
   "source": [
    "# Grid Search to hypertune Randomforest\n",
    "\n",
    "parameters = {'n_estimators':[10,30],'min_samples_split':[4,6]}\n",
    "grid_rf = GridSearchCV(RandomForestClassifier(),param_grid = parameters, verbose=3, n_jobs=1, cv=3)\n",
    "grid_rf.fit(X_train,y_train)\n",
    "y_pred_grid_rf = grid_rf.predict(X_test)\n",
    "\n",
    "display_results(y_test, y_pred_grid_rf,\"Random Forest GridSearch\")"
   ]
  },
  {
   "cell_type": "code",
   "execution_count": 26,
   "metadata": {
    "scrolled": true
   },
   "outputs": [
    {
     "name": "stdout",
     "output_type": "stream",
     "text": [
      "Results for Logistic Regression\n",
      "Confusion Matrix:\n",
      " [[2256 1855]\n",
      " [1480 3180]]\n",
      "Accuracy: 0.6197696955877323\n"
     ]
    }
   ],
   "source": [
    "# init and train logistic model\n",
    "lr = LogisticRegression(random_state=42)\n",
    "lr.fit(X_train, y_train)\n",
    "    \n",
    "# predict with lg\n",
    "y_pred_lr = lr.predict(X_test)\n",
    "display_results(y_test, y_pred_lr, \"Logistic Regression\")"
   ]
  },
  {
   "cell_type": "code",
   "execution_count": 21,
   "metadata": {},
   "outputs": [
    {
     "name": "stdout",
     "output_type": "stream",
     "text": [
      "Results for SVM Model\n",
      "Confusion Matrix:\n",
      " [[2720 1391]\n",
      " [1436 3224]]\n",
      "Accuracy: 0.6776878349105006\n"
     ]
    }
   ],
   "source": [
    "# Init and train SVM model\n",
    "svm_model = SVC(C=1,gamma=1,kernel='rbf',probability=True)\n",
    "svm_model.fit(X_train,y_train)\n",
    "    \n",
    "# predict with SVM\n",
    "y_pred_svm = svm_model.predict(X_test)\n",
    "display_results(y_test, y_pred_svm, \"SVM Model\")\n",
    "\n"
   ]
  },
  {
   "cell_type": "markdown",
   "metadata": {},
   "source": [
    "## Ensemble Models\n",
    "Using different meta-learning models, we will attempt to combine the different individual learns created above into a single model of models. \n",
    "\n",
    "Voting Classifier:\n",
    "This is an intuitive meta-model that will use take the individual predictions made from inidividual models to then make a final prediction. Using voting='soft', does a simple majority rules type voting."
   ]
  },
  {
   "cell_type": "code",
   "execution_count": 28,
   "metadata": {},
   "outputs": [
    {
     "name": "stdout",
     "output_type": "stream",
     "text": [
      "Results for Voting Model (Soft)\n",
      "Confusion Matrix:\n",
      " [[2472 1639]\n",
      " [1363 3297]]\n",
      "Accuracy: 0.6577357199863185\n"
     ]
    }
   ],
   "source": [
    "# combine individual learners into ensemble model \n",
    "estimators = [('randomForest', rf),('LR', lr),('svc', svm_model)]\n",
    "# Voting Classifier initialization that uses the individual learners trained learlier\n",
    "vc = VotingClassifier(estimators=estimators, voting='soft')        \n",
    "# Train Voting Classifier\n",
    "vc.fit(X_train, y_train)\n",
    "# predict with voting classifier\n",
    "y_pred_vc = vc.predict(X_test)\n",
    "display_results(y_test, y_pred_vc, \"Voting Model (Soft)\")"
   ]
  },
  {
   "cell_type": "code",
   "execution_count": 55,
   "metadata": {},
   "outputs": [
    {
     "name": "stdout",
     "output_type": "stream",
     "text": [
      "Results for Stacked Regressor Random Forest\n",
      "Confusion Matrix:\n",
      " [[2655 1456]\n",
      " [1830 2830]]\n",
      "Accuracy: 0.6253562877665032\n",
      "F1 Score: 0.6256751497903823\n"
     ]
    }
   ],
   "source": [
    "display_results(y_test, y_pred_stacked_GB, \"Stacked Regressor Random Forest\")"
   ]
  },
  {
   "cell_type": "code",
   "execution_count": 29,
   "metadata": {},
   "outputs": [
    {
     "name": "stdout",
     "output_type": "stream",
     "text": [
      "Results for Voting Model (Hard)\n",
      "Confusion Matrix:\n",
      " [[2608 1503]\n",
      " [1433 3227]]\n",
      "Accuracy: 0.6652605176148672\n"
     ]
    }
   ],
   "source": [
    "# Voting Classifier initialization that uses the individual learners trained learlier\n",
    "vc = VotingClassifier(estimators=estimators, voting='hard')        \n",
    "# Train Voting Classifier\n",
    "vc.fit(X_train, y_train)\n",
    "# predict with voting classifier\n",
    "y_pred_vc = vc.predict(X_test)\n",
    "display_results(y_test, y_pred_vc, \"Voting Model (Hard)\")"
   ]
  },
  {
   "cell_type": "code",
   "execution_count": 45,
   "metadata": {},
   "outputs": [
    {
     "name": "stdout",
     "output_type": "stream",
     "text": [
      "Results for Stacked Regressor\n",
      "Confusion Matrix:\n",
      " [[2641 1470]\n",
      " [1368 3292]]\n",
      "Accuracy: 0.676433701972409\n"
     ]
    }
   ],
   "source": [
    "# use stacking classifier\n",
    "stack_model = StackingClassifier(estimators=estimators, final_estimator = LogisticRegression())\n",
    "      \n",
    "# train model\n",
    "stack_model.fit(X_train, y_train)    \n",
    "y_pred_stacked = stack_model.predict(X_test)\n",
    "display_results(y_test, y_pred_stacked, \"Stacked Classifier\")"
   ]
  },
  {
   "cell_type": "code",
   "execution_count": 51,
   "metadata": {},
   "outputs": [
    {
     "name": "stdout",
     "output_type": "stream",
     "text": [
      "Results for Stacked Regressor w/h Gradient Boost\n",
      "Confusion Matrix:\n",
      " [[2655 1456]\n",
      " [1830 2830]]\n",
      "Accuracy: 0.6253562877665032\n",
      "F1 Score: 0.6256751497903823\n"
     ]
    }
   ],
   "source": [
    "# define generic RF classifier to use as final estimator\n",
    "final_estimator = RandomForestClassifier(n_estimators=10,criterion='entropy',random_state=42)\n",
    "stack_model_rf = StackingClassifier(estimators=estimators, final_estimator = final_estimator)\n",
    "# fit models\n",
    "stack_model_rf.fit(X_train, y_train)    \n",
    "y_pred_stacked_rf = stack_model_rf.predict(X_test)\n",
    "display_results(y_test, y_pred_stacked_rf, \"Stacked Regressor w/h Gradient Boost\")"
   ]
  },
  {
   "cell_type": "markdown",
   "metadata": {},
   "source": [
    "# Conclusion\n",
    "\n",
    "This project provided a variety of challenges allowing me to use the different lessons learned throughout the program. From a model development perspective, there exists good room for improvement as the best model had an accuracy rate of 67%. Improvement can potentially be made via model hyper-parameter tuninig and bette feature engineering. "
   ]
  }
 ],
 "metadata": {
  "kernelspec": {
   "display_name": "Python 3",
   "language": "python",
   "name": "python3"
  },
  "language_info": {
   "codemirror_mode": {
    "name": "ipython",
    "version": 3
   },
   "file_extension": ".py",
   "mimetype": "text/x-python",
   "name": "python",
   "nbconvert_exporter": "python",
   "pygments_lexer": "ipython3",
   "version": "3.7.5"
  }
 },
 "nbformat": 4,
 "nbformat_minor": 2
}
